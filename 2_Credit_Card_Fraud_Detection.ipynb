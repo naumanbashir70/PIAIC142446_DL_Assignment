{
 "cells": [
  {
   "cell_type": "markdown",
   "metadata": {},
   "source": [
    "# PIAIC142446NaumanBashir"
   ]
  },
  {
   "cell_type": "markdown",
   "metadata": {
    "id": "IjXyBC8Rz4Od"
   },
   "source": [
    "Credit Card Fraud Detection::"
   ]
  },
  {
   "cell_type": "markdown",
   "metadata": {
    "id": "mqv0OXC9UPMg"
   },
   "source": [
    "Download dataset from this link:\n",
    "\n",
    "https://www.kaggle.com/mlg-ulb/creditcardfraud"
   ]
  },
  {
   "cell_type": "markdown",
   "metadata": {
    "id": "sGXx1UWQUPMh"
   },
   "source": [
    "# Description about dataset::"
   ]
  },
  {
   "cell_type": "markdown",
   "metadata": {
    "id": "VRxNcnhLUPMh"
   },
   "source": [
    "The datasets contains transactions made by credit cards in September 2013 by european cardholders.\n",
    "This dataset presents transactions that occurred in two days, where we have 492 frauds out of 284,807 transactions. The dataset is highly unbalanced, the positive class (frauds) account for 0.172% of all transactions.\n",
    "\n",
    "It contains only numerical input variables which are the result of a PCA transformation. Unfortunately, due to confidentiality issues, we cannot provide the original features and more background information about the data. Features V1, V2, … V28 are the principal components obtained with PCA, the only features which have not been transformed with PCA are 'Time' and 'Amount'. Feature 'Time' contains the seconds elapsed between each transaction and the first transaction in the dataset. The feature 'Amount' is the transaction Amount, this feature can be used for example-dependant cost-senstive learning. \n",
    "\n",
    "\n",
    "### Feature 'Class' is the response variable and it takes value 1 in case of fraud and 0 otherwise."
   ]
  },
  {
   "cell_type": "markdown",
   "metadata": {
    "id": "s7iFX8c-UPMi"
   },
   "source": [
    "# WORKFLOW :"
   ]
  },
  {
   "cell_type": "markdown",
   "metadata": {
    "id": "xyOHvkvlUPMi"
   },
   "source": [
    "1.Load Data\n",
    "\n",
    "2.Check Missing Values ( If Exist ; Fill each record with mean of its feature )\n",
    "\n",
    "3.Standardized the Input Variables. \n",
    "\n",
    "4.Split into 50% Training(Samples,Labels) , 30% Test(Samples,Labels) and 20% Validation Data(Samples,Labels).\n",
    "\n",
    "5.Model : input Layer (No. of features ), 3 hidden layers including 10,8,6 unit & Output Layer with activation function relu/tanh (check by experiment).\n",
    "\n",
    "6.Compilation Step (Note : Its a Binary problem , select loss , metrics according to it)\n",
    "\n",
    "7.Train the Model with Epochs (100).\n",
    "\n",
    "8.If the model gets overfit tune your model by changing the units , No. of layers , epochs , add dropout layer or add Regularizer according to the need .\n",
    "\n",
    "9.Prediction should be > 92%\n",
    "10.Evaluation Step\n",
    "11Prediction\n"
   ]
  },
  {
   "cell_type": "markdown",
   "metadata": {
    "id": "-k7vK7NwUPMj"
   },
   "source": [
    "# Task::"
   ]
  },
  {
   "cell_type": "markdown",
   "metadata": {
    "id": "Nw3YypdxUPMj"
   },
   "source": [
    "## Identify fraudulent credit card transactions."
   ]
  },
  {
   "cell_type": "code",
   "execution_count": 1,
   "metadata": {
    "colab": {
     "base_uri": "https://localhost:8080/"
    },
    "id": "XsKOVdySz156",
    "outputId": "91bb97a1-dd24-49b1-d4e3-34c90dba8c2b"
   },
   "outputs": [
    {
     "name": "stdout",
     "output_type": "stream",
     "text": [
      "C:\\Users\\nauma\\Desktop\\PIAIC_DL\\PIAIC_Assignment_DL\n"
     ]
    }
   ],
   "source": [
    "cd C:\\Users\\nauma\\Desktop\\PIAIC_DL\\PIAIC_Assignment_DL\\"
   ]
  },
  {
   "cell_type": "code",
   "execution_count": 6,
   "metadata": {
    "colab": {
     "base_uri": "https://localhost:8080/"
    },
    "id": "absyODuD0YJm",
    "outputId": "13c1a27c-6d5d-4ea3-94f5-35b27711cca4"
   },
   "outputs": [],
   "source": [
    "# import libraries\n",
    "import tensorflow as tf\n",
    "from tensorflow import keras\n",
    "from tensorflow.keras import Sequential\n",
    "from tensorflow.keras.layers import Flatten, Dense, Dropout, BatchNormalization\n",
    "from tensorflow.keras.layers import Conv1D, MaxPool1D\n",
    "from tensorflow.keras.optimizers import Adam\n"
   ]
  },
  {
   "cell_type": "code",
   "execution_count": 7,
   "metadata": {
    "id": "g1pwRULo1EIV"
   },
   "outputs": [],
   "source": [
    "import pandas as pd\n",
    "import numpy as np\n",
    "import seaborn as sns \n",
    "import matplotlib.pyplot as plt\n",
    "from sklearn.model_selection import train_test_split\n",
    "from sklearn.preprocessing import StandardScaler"
   ]
  },
  {
   "cell_type": "code",
   "execution_count": 8,
   "metadata": {
    "id": "tMbCFxQQ1WIz"
   },
   "outputs": [],
   "source": [
    "data = pd.read_csv('creditcard.csv')"
   ]
  },
  {
   "cell_type": "code",
   "execution_count": 9,
   "metadata": {
    "colab": {
     "base_uri": "https://localhost:8080/",
     "height": 224
    },
    "id": "q-Ke9QK01bVs",
    "outputId": "c013cba5-72ed-49ca-ecf7-bd006d6a69a1"
   },
   "outputs": [
    {
     "data": {
      "text/html": [
       "<div>\n",
       "<style scoped>\n",
       "    .dataframe tbody tr th:only-of-type {\n",
       "        vertical-align: middle;\n",
       "    }\n",
       "\n",
       "    .dataframe tbody tr th {\n",
       "        vertical-align: top;\n",
       "    }\n",
       "\n",
       "    .dataframe thead th {\n",
       "        text-align: right;\n",
       "    }\n",
       "</style>\n",
       "<table border=\"1\" class=\"dataframe\">\n",
       "  <thead>\n",
       "    <tr style=\"text-align: right;\">\n",
       "      <th></th>\n",
       "      <th>Time</th>\n",
       "      <th>V1</th>\n",
       "      <th>V2</th>\n",
       "      <th>V3</th>\n",
       "      <th>V4</th>\n",
       "      <th>V5</th>\n",
       "      <th>V6</th>\n",
       "      <th>V7</th>\n",
       "      <th>V8</th>\n",
       "      <th>V9</th>\n",
       "      <th>...</th>\n",
       "      <th>V21</th>\n",
       "      <th>V22</th>\n",
       "      <th>V23</th>\n",
       "      <th>V24</th>\n",
       "      <th>V25</th>\n",
       "      <th>V26</th>\n",
       "      <th>V27</th>\n",
       "      <th>V28</th>\n",
       "      <th>Amount</th>\n",
       "      <th>Class</th>\n",
       "    </tr>\n",
       "  </thead>\n",
       "  <tbody>\n",
       "    <tr>\n",
       "      <th>0</th>\n",
       "      <td>0.0</td>\n",
       "      <td>-1.359807</td>\n",
       "      <td>-0.072781</td>\n",
       "      <td>2.536347</td>\n",
       "      <td>1.378155</td>\n",
       "      <td>-0.338321</td>\n",
       "      <td>0.462388</td>\n",
       "      <td>0.239599</td>\n",
       "      <td>0.098698</td>\n",
       "      <td>0.363787</td>\n",
       "      <td>...</td>\n",
       "      <td>-0.018307</td>\n",
       "      <td>0.277838</td>\n",
       "      <td>-0.110474</td>\n",
       "      <td>0.066928</td>\n",
       "      <td>0.128539</td>\n",
       "      <td>-0.189115</td>\n",
       "      <td>0.133558</td>\n",
       "      <td>-0.021053</td>\n",
       "      <td>149.62</td>\n",
       "      <td>0</td>\n",
       "    </tr>\n",
       "    <tr>\n",
       "      <th>1</th>\n",
       "      <td>0.0</td>\n",
       "      <td>1.191857</td>\n",
       "      <td>0.266151</td>\n",
       "      <td>0.166480</td>\n",
       "      <td>0.448154</td>\n",
       "      <td>0.060018</td>\n",
       "      <td>-0.082361</td>\n",
       "      <td>-0.078803</td>\n",
       "      <td>0.085102</td>\n",
       "      <td>-0.255425</td>\n",
       "      <td>...</td>\n",
       "      <td>-0.225775</td>\n",
       "      <td>-0.638672</td>\n",
       "      <td>0.101288</td>\n",
       "      <td>-0.339846</td>\n",
       "      <td>0.167170</td>\n",
       "      <td>0.125895</td>\n",
       "      <td>-0.008983</td>\n",
       "      <td>0.014724</td>\n",
       "      <td>2.69</td>\n",
       "      <td>0</td>\n",
       "    </tr>\n",
       "    <tr>\n",
       "      <th>2</th>\n",
       "      <td>1.0</td>\n",
       "      <td>-1.358354</td>\n",
       "      <td>-1.340163</td>\n",
       "      <td>1.773209</td>\n",
       "      <td>0.379780</td>\n",
       "      <td>-0.503198</td>\n",
       "      <td>1.800499</td>\n",
       "      <td>0.791461</td>\n",
       "      <td>0.247676</td>\n",
       "      <td>-1.514654</td>\n",
       "      <td>...</td>\n",
       "      <td>0.247998</td>\n",
       "      <td>0.771679</td>\n",
       "      <td>0.909412</td>\n",
       "      <td>-0.689281</td>\n",
       "      <td>-0.327642</td>\n",
       "      <td>-0.139097</td>\n",
       "      <td>-0.055353</td>\n",
       "      <td>-0.059752</td>\n",
       "      <td>378.66</td>\n",
       "      <td>0</td>\n",
       "    </tr>\n",
       "    <tr>\n",
       "      <th>3</th>\n",
       "      <td>1.0</td>\n",
       "      <td>-0.966272</td>\n",
       "      <td>-0.185226</td>\n",
       "      <td>1.792993</td>\n",
       "      <td>-0.863291</td>\n",
       "      <td>-0.010309</td>\n",
       "      <td>1.247203</td>\n",
       "      <td>0.237609</td>\n",
       "      <td>0.377436</td>\n",
       "      <td>-1.387024</td>\n",
       "      <td>...</td>\n",
       "      <td>-0.108300</td>\n",
       "      <td>0.005274</td>\n",
       "      <td>-0.190321</td>\n",
       "      <td>-1.175575</td>\n",
       "      <td>0.647376</td>\n",
       "      <td>-0.221929</td>\n",
       "      <td>0.062723</td>\n",
       "      <td>0.061458</td>\n",
       "      <td>123.50</td>\n",
       "      <td>0</td>\n",
       "    </tr>\n",
       "    <tr>\n",
       "      <th>4</th>\n",
       "      <td>2.0</td>\n",
       "      <td>-1.158233</td>\n",
       "      <td>0.877737</td>\n",
       "      <td>1.548718</td>\n",
       "      <td>0.403034</td>\n",
       "      <td>-0.407193</td>\n",
       "      <td>0.095921</td>\n",
       "      <td>0.592941</td>\n",
       "      <td>-0.270533</td>\n",
       "      <td>0.817739</td>\n",
       "      <td>...</td>\n",
       "      <td>-0.009431</td>\n",
       "      <td>0.798278</td>\n",
       "      <td>-0.137458</td>\n",
       "      <td>0.141267</td>\n",
       "      <td>-0.206010</td>\n",
       "      <td>0.502292</td>\n",
       "      <td>0.219422</td>\n",
       "      <td>0.215153</td>\n",
       "      <td>69.99</td>\n",
       "      <td>0</td>\n",
       "    </tr>\n",
       "  </tbody>\n",
       "</table>\n",
       "<p>5 rows × 31 columns</p>\n",
       "</div>"
      ],
      "text/plain": [
       "   Time        V1        V2        V3        V4        V5        V6        V7  \\\n",
       "0   0.0 -1.359807 -0.072781  2.536347  1.378155 -0.338321  0.462388  0.239599   \n",
       "1   0.0  1.191857  0.266151  0.166480  0.448154  0.060018 -0.082361 -0.078803   \n",
       "2   1.0 -1.358354 -1.340163  1.773209  0.379780 -0.503198  1.800499  0.791461   \n",
       "3   1.0 -0.966272 -0.185226  1.792993 -0.863291 -0.010309  1.247203  0.237609   \n",
       "4   2.0 -1.158233  0.877737  1.548718  0.403034 -0.407193  0.095921  0.592941   \n",
       "\n",
       "         V8        V9  ...       V21       V22       V23       V24       V25  \\\n",
       "0  0.098698  0.363787  ... -0.018307  0.277838 -0.110474  0.066928  0.128539   \n",
       "1  0.085102 -0.255425  ... -0.225775 -0.638672  0.101288 -0.339846  0.167170   \n",
       "2  0.247676 -1.514654  ...  0.247998  0.771679  0.909412 -0.689281 -0.327642   \n",
       "3  0.377436 -1.387024  ... -0.108300  0.005274 -0.190321 -1.175575  0.647376   \n",
       "4 -0.270533  0.817739  ... -0.009431  0.798278 -0.137458  0.141267 -0.206010   \n",
       "\n",
       "        V26       V27       V28  Amount  Class  \n",
       "0 -0.189115  0.133558 -0.021053  149.62      0  \n",
       "1  0.125895 -0.008983  0.014724    2.69      0  \n",
       "2 -0.139097 -0.055353 -0.059752  378.66      0  \n",
       "3 -0.221929  0.062723  0.061458  123.50      0  \n",
       "4  0.502292  0.219422  0.215153   69.99      0  \n",
       "\n",
       "[5 rows x 31 columns]"
      ]
     },
     "execution_count": 9,
     "metadata": {},
     "output_type": "execute_result"
    }
   ],
   "source": [
    "data.head()"
   ]
  },
  {
   "cell_type": "code",
   "execution_count": 10,
   "metadata": {
    "colab": {
     "base_uri": "https://localhost:8080/"
    },
    "id": "h4BrBH6h2dgt",
    "outputId": "c6c9bf5c-b2de-4522-8342-3fd6e5a2e8ed"
   },
   "outputs": [
    {
     "data": {
      "text/plain": [
       "(284807, 31)"
      ]
     },
     "execution_count": 10,
     "metadata": {},
     "output_type": "execute_result"
    }
   ],
   "source": [
    "data.shape"
   ]
  },
  {
   "cell_type": "code",
   "execution_count": 11,
   "metadata": {
    "colab": {
     "base_uri": "https://localhost:8080/"
    },
    "id": "4d-oZKzS2h90",
    "outputId": "454b523a-e1f6-4a28-9c03-27efe4eeabff"
   },
   "outputs": [
    {
     "data": {
      "text/plain": [
       "Time      0\n",
       "V1        0\n",
       "V2        0\n",
       "V3        0\n",
       "V4        0\n",
       "V5        0\n",
       "V6        0\n",
       "V7        0\n",
       "V8        0\n",
       "V9        0\n",
       "V10       0\n",
       "V11       0\n",
       "V12       0\n",
       "V13       0\n",
       "V14       0\n",
       "V15       0\n",
       "V16       0\n",
       "V17       0\n",
       "V18       0\n",
       "V19       0\n",
       "V20       0\n",
       "V21       0\n",
       "V22       0\n",
       "V23       0\n",
       "V24       0\n",
       "V25       0\n",
       "V26       0\n",
       "V27       0\n",
       "V28       0\n",
       "Amount    0\n",
       "Class     0\n",
       "dtype: int64"
      ]
     },
     "execution_count": 11,
     "metadata": {},
     "output_type": "execute_result"
    }
   ],
   "source": [
    "data.isnull().sum()"
   ]
  },
  {
   "cell_type": "code",
   "execution_count": 12,
   "metadata": {
    "colab": {
     "base_uri": "https://localhost:8080/"
    },
    "id": "LNY2V3F_2nCF",
    "outputId": "d3db503a-8689-4a17-b126-15f06b289720"
   },
   "outputs": [
    {
     "name": "stdout",
     "output_type": "stream",
     "text": [
      "<class 'pandas.core.frame.DataFrame'>\n",
      "RangeIndex: 284807 entries, 0 to 284806\n",
      "Data columns (total 31 columns):\n",
      " #   Column  Non-Null Count   Dtype  \n",
      "---  ------  --------------   -----  \n",
      " 0   Time    284807 non-null  float64\n",
      " 1   V1      284807 non-null  float64\n",
      " 2   V2      284807 non-null  float64\n",
      " 3   V3      284807 non-null  float64\n",
      " 4   V4      284807 non-null  float64\n",
      " 5   V5      284807 non-null  float64\n",
      " 6   V6      284807 non-null  float64\n",
      " 7   V7      284807 non-null  float64\n",
      " 8   V8      284807 non-null  float64\n",
      " 9   V9      284807 non-null  float64\n",
      " 10  V10     284807 non-null  float64\n",
      " 11  V11     284807 non-null  float64\n",
      " 12  V12     284807 non-null  float64\n",
      " 13  V13     284807 non-null  float64\n",
      " 14  V14     284807 non-null  float64\n",
      " 15  V15     284807 non-null  float64\n",
      " 16  V16     284807 non-null  float64\n",
      " 17  V17     284807 non-null  float64\n",
      " 18  V18     284807 non-null  float64\n",
      " 19  V19     284807 non-null  float64\n",
      " 20  V20     284807 non-null  float64\n",
      " 21  V21     284807 non-null  float64\n",
      " 22  V22     284807 non-null  float64\n",
      " 23  V23     284807 non-null  float64\n",
      " 24  V24     284807 non-null  float64\n",
      " 25  V25     284807 non-null  float64\n",
      " 26  V26     284807 non-null  float64\n",
      " 27  V27     284807 non-null  float64\n",
      " 28  V28     284807 non-null  float64\n",
      " 29  Amount  284807 non-null  float64\n",
      " 30  Class   284807 non-null  int64  \n",
      "dtypes: float64(30), int64(1)\n",
      "memory usage: 67.4 MB\n"
     ]
    }
   ],
   "source": [
    "data.info()"
   ]
  },
  {
   "cell_type": "code",
   "execution_count": 13,
   "metadata": {
    "colab": {
     "base_uri": "https://localhost:8080/"
    },
    "id": "jpdFVD7o2swd",
    "outputId": "b6007e69-a532-4432-ae8c-989b395b7ec2"
   },
   "outputs": [
    {
     "data": {
      "text/plain": [
       "0    284315\n",
       "1       492\n",
       "Name: Class, dtype: int64"
      ]
     },
     "execution_count": 13,
     "metadata": {},
     "output_type": "execute_result"
    }
   ],
   "source": [
    "data['Class'].value_counts()"
   ]
  },
  {
   "cell_type": "code",
   "execution_count": 14,
   "metadata": {
    "id": "F2ICQ4yT223k"
   },
   "outputs": [],
   "source": [
    "non_fraud = data[data['Class'] == 0]\n",
    "fraud = data[data['Class'] == 1]"
   ]
  },
  {
   "cell_type": "code",
   "execution_count": 15,
   "metadata": {
    "colab": {
     "base_uri": "https://localhost:8080/"
    },
    "id": "XwboXN013Yvd",
    "outputId": "9fd68e37-73c4-4b46-9d04-759155598d78"
   },
   "outputs": [
    {
     "data": {
      "text/plain": [
       "((284315, 31), (492, 31))"
      ]
     },
     "execution_count": 15,
     "metadata": {},
     "output_type": "execute_result"
    }
   ],
   "source": [
    "non_fraud.shape, fraud.shape"
   ]
  },
  {
   "cell_type": "code",
   "execution_count": 17,
   "metadata": {
    "colab": {
     "base_uri": "https://localhost:8080/"
    },
    "id": "DGjHRGRP3cxs",
    "outputId": "29c554c7-7072-4e03-b453-7b28c5b791f1"
   },
   "outputs": [
    {
     "data": {
      "text/plain": [
       "(492, 31)"
      ]
     },
     "execution_count": 17,
     "metadata": {},
     "output_type": "execute_result"
    }
   ],
   "source": [
    "non_fraud = non_fraud.sample(fraud.shape[0])\n",
    "non_fraud.shape"
   ]
  },
  {
   "cell_type": "markdown",
   "metadata": {
    "id": "3DFv_Zrn3_n0"
   },
   "source": [
    "**Merge fraud and non_fraud datasets**"
   ]
  },
  {
   "cell_type": "code",
   "execution_count": 18,
   "metadata": {
    "colab": {
     "base_uri": "https://localhost:8080/",
     "height": 224
    },
    "id": "fmS3ZYjQ37z1",
    "outputId": "ec467f40-2b4b-427b-8b58-9842a9001ef5"
   },
   "outputs": [
    {
     "data": {
      "text/html": [
       "<div>\n",
       "<style scoped>\n",
       "    .dataframe tbody tr th:only-of-type {\n",
       "        vertical-align: middle;\n",
       "    }\n",
       "\n",
       "    .dataframe tbody tr th {\n",
       "        vertical-align: top;\n",
       "    }\n",
       "\n",
       "    .dataframe thead th {\n",
       "        text-align: right;\n",
       "    }\n",
       "</style>\n",
       "<table border=\"1\" class=\"dataframe\">\n",
       "  <thead>\n",
       "    <tr style=\"text-align: right;\">\n",
       "      <th></th>\n",
       "      <th>Time</th>\n",
       "      <th>V1</th>\n",
       "      <th>V2</th>\n",
       "      <th>V3</th>\n",
       "      <th>V4</th>\n",
       "      <th>V5</th>\n",
       "      <th>V6</th>\n",
       "      <th>V7</th>\n",
       "      <th>V8</th>\n",
       "      <th>V9</th>\n",
       "      <th>...</th>\n",
       "      <th>V21</th>\n",
       "      <th>V22</th>\n",
       "      <th>V23</th>\n",
       "      <th>V24</th>\n",
       "      <th>V25</th>\n",
       "      <th>V26</th>\n",
       "      <th>V27</th>\n",
       "      <th>V28</th>\n",
       "      <th>Amount</th>\n",
       "      <th>Class</th>\n",
       "    </tr>\n",
       "  </thead>\n",
       "  <tbody>\n",
       "    <tr>\n",
       "      <th>0</th>\n",
       "      <td>406.0</td>\n",
       "      <td>-2.312227</td>\n",
       "      <td>1.951992</td>\n",
       "      <td>-1.609851</td>\n",
       "      <td>3.997906</td>\n",
       "      <td>-0.522188</td>\n",
       "      <td>-1.426545</td>\n",
       "      <td>-2.537387</td>\n",
       "      <td>1.391657</td>\n",
       "      <td>-2.770089</td>\n",
       "      <td>...</td>\n",
       "      <td>0.517232</td>\n",
       "      <td>-0.035049</td>\n",
       "      <td>-0.465211</td>\n",
       "      <td>0.320198</td>\n",
       "      <td>0.044519</td>\n",
       "      <td>0.177840</td>\n",
       "      <td>0.261145</td>\n",
       "      <td>-0.143276</td>\n",
       "      <td>0.00</td>\n",
       "      <td>1</td>\n",
       "    </tr>\n",
       "    <tr>\n",
       "      <th>1</th>\n",
       "      <td>472.0</td>\n",
       "      <td>-3.043541</td>\n",
       "      <td>-3.157307</td>\n",
       "      <td>1.088463</td>\n",
       "      <td>2.288644</td>\n",
       "      <td>1.359805</td>\n",
       "      <td>-1.064823</td>\n",
       "      <td>0.325574</td>\n",
       "      <td>-0.067794</td>\n",
       "      <td>-0.270953</td>\n",
       "      <td>...</td>\n",
       "      <td>0.661696</td>\n",
       "      <td>0.435477</td>\n",
       "      <td>1.375966</td>\n",
       "      <td>-0.293803</td>\n",
       "      <td>0.279798</td>\n",
       "      <td>-0.145362</td>\n",
       "      <td>-0.252773</td>\n",
       "      <td>0.035764</td>\n",
       "      <td>529.00</td>\n",
       "      <td>1</td>\n",
       "    </tr>\n",
       "    <tr>\n",
       "      <th>2</th>\n",
       "      <td>4462.0</td>\n",
       "      <td>-2.303350</td>\n",
       "      <td>1.759247</td>\n",
       "      <td>-0.359745</td>\n",
       "      <td>2.330243</td>\n",
       "      <td>-0.821628</td>\n",
       "      <td>-0.075788</td>\n",
       "      <td>0.562320</td>\n",
       "      <td>-0.399147</td>\n",
       "      <td>-0.238253</td>\n",
       "      <td>...</td>\n",
       "      <td>-0.294166</td>\n",
       "      <td>-0.932391</td>\n",
       "      <td>0.172726</td>\n",
       "      <td>-0.087330</td>\n",
       "      <td>-0.156114</td>\n",
       "      <td>-0.542628</td>\n",
       "      <td>0.039566</td>\n",
       "      <td>-0.153029</td>\n",
       "      <td>239.93</td>\n",
       "      <td>1</td>\n",
       "    </tr>\n",
       "    <tr>\n",
       "      <th>3</th>\n",
       "      <td>6986.0</td>\n",
       "      <td>-4.397974</td>\n",
       "      <td>1.358367</td>\n",
       "      <td>-2.592844</td>\n",
       "      <td>2.679787</td>\n",
       "      <td>-1.128131</td>\n",
       "      <td>-1.706536</td>\n",
       "      <td>-3.496197</td>\n",
       "      <td>-0.248778</td>\n",
       "      <td>-0.247768</td>\n",
       "      <td>...</td>\n",
       "      <td>0.573574</td>\n",
       "      <td>0.176968</td>\n",
       "      <td>-0.436207</td>\n",
       "      <td>-0.053502</td>\n",
       "      <td>0.252405</td>\n",
       "      <td>-0.657488</td>\n",
       "      <td>-0.827136</td>\n",
       "      <td>0.849573</td>\n",
       "      <td>59.00</td>\n",
       "      <td>1</td>\n",
       "    </tr>\n",
       "    <tr>\n",
       "      <th>4</th>\n",
       "      <td>7519.0</td>\n",
       "      <td>1.234235</td>\n",
       "      <td>3.019740</td>\n",
       "      <td>-4.304597</td>\n",
       "      <td>4.732795</td>\n",
       "      <td>3.624201</td>\n",
       "      <td>-1.357746</td>\n",
       "      <td>1.713445</td>\n",
       "      <td>-0.496358</td>\n",
       "      <td>-1.282858</td>\n",
       "      <td>...</td>\n",
       "      <td>-0.379068</td>\n",
       "      <td>-0.704181</td>\n",
       "      <td>-0.656805</td>\n",
       "      <td>-1.632653</td>\n",
       "      <td>1.488901</td>\n",
       "      <td>0.566797</td>\n",
       "      <td>-0.010016</td>\n",
       "      <td>0.146793</td>\n",
       "      <td>1.00</td>\n",
       "      <td>1</td>\n",
       "    </tr>\n",
       "  </tbody>\n",
       "</table>\n",
       "<p>5 rows × 31 columns</p>\n",
       "</div>"
      ],
      "text/plain": [
       "     Time        V1        V2        V3        V4        V5        V6  \\\n",
       "0   406.0 -2.312227  1.951992 -1.609851  3.997906 -0.522188 -1.426545   \n",
       "1   472.0 -3.043541 -3.157307  1.088463  2.288644  1.359805 -1.064823   \n",
       "2  4462.0 -2.303350  1.759247 -0.359745  2.330243 -0.821628 -0.075788   \n",
       "3  6986.0 -4.397974  1.358367 -2.592844  2.679787 -1.128131 -1.706536   \n",
       "4  7519.0  1.234235  3.019740 -4.304597  4.732795  3.624201 -1.357746   \n",
       "\n",
       "         V7        V8        V9  ...       V21       V22       V23       V24  \\\n",
       "0 -2.537387  1.391657 -2.770089  ...  0.517232 -0.035049 -0.465211  0.320198   \n",
       "1  0.325574 -0.067794 -0.270953  ...  0.661696  0.435477  1.375966 -0.293803   \n",
       "2  0.562320 -0.399147 -0.238253  ... -0.294166 -0.932391  0.172726 -0.087330   \n",
       "3 -3.496197 -0.248778 -0.247768  ...  0.573574  0.176968 -0.436207 -0.053502   \n",
       "4  1.713445 -0.496358 -1.282858  ... -0.379068 -0.704181 -0.656805 -1.632653   \n",
       "\n",
       "        V25       V26       V27       V28  Amount  Class  \n",
       "0  0.044519  0.177840  0.261145 -0.143276    0.00      1  \n",
       "1  0.279798 -0.145362 -0.252773  0.035764  529.00      1  \n",
       "2 -0.156114 -0.542628  0.039566 -0.153029  239.93      1  \n",
       "3  0.252405 -0.657488 -0.827136  0.849573   59.00      1  \n",
       "4  1.488901  0.566797 -0.010016  0.146793    1.00      1  \n",
       "\n",
       "[5 rows x 31 columns]"
      ]
     },
     "execution_count": 18,
     "metadata": {},
     "output_type": "execute_result"
    }
   ],
   "source": [
    "final_data = fraud.append(non_fraud, ignore_index=True)\n",
    "final_data.head()"
   ]
  },
  {
   "cell_type": "code",
   "execution_count": 19,
   "metadata": {
    "colab": {
     "base_uri": "https://localhost:8080/"
    },
    "id": "8pHVIKLy4Mrs",
    "outputId": "dfc01dc4-618f-4a4c-f081-37d4ac65746b"
   },
   "outputs": [
    {
     "data": {
      "text/plain": [
       "1    492\n",
       "0    492\n",
       "Name: Class, dtype: int64"
      ]
     },
     "execution_count": 19,
     "metadata": {},
     "output_type": "execute_result"
    }
   ],
   "source": [
    "final_data['Class'].value_counts()"
   ]
  },
  {
   "cell_type": "code",
   "execution_count": 20,
   "metadata": {
    "id": "MEJf9yav4VoM"
   },
   "outputs": [],
   "source": [
    "X = final_data.drop('Class', axis=1)\n",
    "y = final_data['Class']"
   ]
  },
  {
   "cell_type": "code",
   "execution_count": 21,
   "metadata": {
    "id": "205D5ZEP4nK8"
   },
   "outputs": [],
   "source": [
    "X_train, X_test, y_train, y_test = train_test_split(X, y, test_size=0.3, random_state=0, stratify=y)"
   ]
  },
  {
   "cell_type": "code",
   "execution_count": 22,
   "metadata": {
    "colab": {
     "base_uri": "https://localhost:8080/"
    },
    "id": "7HUNkQtd45uc",
    "outputId": "10c05089-bb06-445b-b26b-c379e89cd916"
   },
   "outputs": [
    {
     "data": {
      "text/plain": [
       "((688, 30), (296, 30))"
      ]
     },
     "execution_count": 22,
     "metadata": {},
     "output_type": "execute_result"
    }
   ],
   "source": [
    "X_train.shape, X_test.shape"
   ]
  },
  {
   "cell_type": "code",
   "execution_count": 23,
   "metadata": {
    "colab": {
     "base_uri": "https://localhost:8080/",
     "height": 224
    },
    "id": "5fweu1LH48gs",
    "outputId": "178cfef2-5f0f-452d-b681-ad1bdb4059da"
   },
   "outputs": [
    {
     "data": {
      "text/html": [
       "<div>\n",
       "<style scoped>\n",
       "    .dataframe tbody tr th:only-of-type {\n",
       "        vertical-align: middle;\n",
       "    }\n",
       "\n",
       "    .dataframe tbody tr th {\n",
       "        vertical-align: top;\n",
       "    }\n",
       "\n",
       "    .dataframe thead th {\n",
       "        text-align: right;\n",
       "    }\n",
       "</style>\n",
       "<table border=\"1\" class=\"dataframe\">\n",
       "  <thead>\n",
       "    <tr style=\"text-align: right;\">\n",
       "      <th></th>\n",
       "      <th>Time</th>\n",
       "      <th>V1</th>\n",
       "      <th>V2</th>\n",
       "      <th>V3</th>\n",
       "      <th>V4</th>\n",
       "      <th>V5</th>\n",
       "      <th>V6</th>\n",
       "      <th>V7</th>\n",
       "      <th>V8</th>\n",
       "      <th>V9</th>\n",
       "      <th>...</th>\n",
       "      <th>V20</th>\n",
       "      <th>V21</th>\n",
       "      <th>V22</th>\n",
       "      <th>V23</th>\n",
       "      <th>V24</th>\n",
       "      <th>V25</th>\n",
       "      <th>V26</th>\n",
       "      <th>V27</th>\n",
       "      <th>V28</th>\n",
       "      <th>Amount</th>\n",
       "    </tr>\n",
       "  </thead>\n",
       "  <tbody>\n",
       "    <tr>\n",
       "      <th>633</th>\n",
       "      <td>82644.0</td>\n",
       "      <td>-2.424979</td>\n",
       "      <td>1.879610</td>\n",
       "      <td>0.118779</td>\n",
       "      <td>-1.694876</td>\n",
       "      <td>-0.721057</td>\n",
       "      <td>-0.349701</td>\n",
       "      <td>-0.341409</td>\n",
       "      <td>1.040600</td>\n",
       "      <td>1.048631</td>\n",
       "      <td>...</td>\n",
       "      <td>0.457822</td>\n",
       "      <td>-0.237272</td>\n",
       "      <td>-0.327530</td>\n",
       "      <td>0.169846</td>\n",
       "      <td>-0.331942</td>\n",
       "      <td>-0.012874</td>\n",
       "      <td>0.769647</td>\n",
       "      <td>0.427084</td>\n",
       "      <td>0.050303</td>\n",
       "      <td>3.07</td>\n",
       "    </tr>\n",
       "    <tr>\n",
       "      <th>662</th>\n",
       "      <td>167143.0</td>\n",
       "      <td>2.075331</td>\n",
       "      <td>-0.379364</td>\n",
       "      <td>-2.613121</td>\n",
       "      <td>0.395113</td>\n",
       "      <td>0.689749</td>\n",
       "      <td>-0.771710</td>\n",
       "      <td>0.637074</td>\n",
       "      <td>-0.442253</td>\n",
       "      <td>-1.488096</td>\n",
       "      <td>...</td>\n",
       "      <td>-0.570615</td>\n",
       "      <td>-0.011997</td>\n",
       "      <td>0.435222</td>\n",
       "      <td>-0.295213</td>\n",
       "      <td>-0.802587</td>\n",
       "      <td>0.781623</td>\n",
       "      <td>-0.168468</td>\n",
       "      <td>-0.045675</td>\n",
       "      <td>-0.080806</td>\n",
       "      <td>74.00</td>\n",
       "    </tr>\n",
       "    <tr>\n",
       "      <th>510</th>\n",
       "      <td>46260.0</td>\n",
       "      <td>1.276246</td>\n",
       "      <td>0.073218</td>\n",
       "      <td>0.157897</td>\n",
       "      <td>0.324545</td>\n",
       "      <td>-0.150865</td>\n",
       "      <td>-0.230579</td>\n",
       "      <td>-0.160269</td>\n",
       "      <td>0.078736</td>\n",
       "      <td>0.066164</td>\n",
       "      <td>...</td>\n",
       "      <td>-0.152044</td>\n",
       "      <td>-0.277651</td>\n",
       "      <td>-0.904890</td>\n",
       "      <td>0.040404</td>\n",
       "      <td>-0.542788</td>\n",
       "      <td>0.247931</td>\n",
       "      <td>0.133455</td>\n",
       "      <td>-0.043461</td>\n",
       "      <td>-0.002877</td>\n",
       "      <td>0.89</td>\n",
       "    </tr>\n",
       "    <tr>\n",
       "      <th>68</th>\n",
       "      <td>26961.0</td>\n",
       "      <td>-23.237920</td>\n",
       "      <td>13.487386</td>\n",
       "      <td>-25.188773</td>\n",
       "      <td>6.261733</td>\n",
       "      <td>-17.345188</td>\n",
       "      <td>-4.534989</td>\n",
       "      <td>-17.100492</td>\n",
       "      <td>15.374630</td>\n",
       "      <td>-3.845567</td>\n",
       "      <td>...</td>\n",
       "      <td>1.630787</td>\n",
       "      <td>1.769708</td>\n",
       "      <td>-1.691973</td>\n",
       "      <td>-1.045673</td>\n",
       "      <td>0.143386</td>\n",
       "      <td>1.611577</td>\n",
       "      <td>-0.221576</td>\n",
       "      <td>1.481233</td>\n",
       "      <td>0.438125</td>\n",
       "      <td>99.99</td>\n",
       "    </tr>\n",
       "    <tr>\n",
       "      <th>294</th>\n",
       "      <td>93823.0</td>\n",
       "      <td>-3.821939</td>\n",
       "      <td>5.667247</td>\n",
       "      <td>-9.244963</td>\n",
       "      <td>8.246147</td>\n",
       "      <td>-4.368286</td>\n",
       "      <td>-3.450735</td>\n",
       "      <td>-8.427378</td>\n",
       "      <td>2.305609</td>\n",
       "      <td>-5.338079</td>\n",
       "      <td>...</td>\n",
       "      <td>1.115247</td>\n",
       "      <td>1.990520</td>\n",
       "      <td>0.083353</td>\n",
       "      <td>-0.062264</td>\n",
       "      <td>0.390188</td>\n",
       "      <td>0.329884</td>\n",
       "      <td>0.098017</td>\n",
       "      <td>1.869570</td>\n",
       "      <td>1.000850</td>\n",
       "      <td>75.86</td>\n",
       "    </tr>\n",
       "  </tbody>\n",
       "</table>\n",
       "<p>5 rows × 30 columns</p>\n",
       "</div>"
      ],
      "text/plain": [
       "         Time         V1         V2         V3        V4         V5        V6  \\\n",
       "633   82644.0  -2.424979   1.879610   0.118779 -1.694876  -0.721057 -0.349701   \n",
       "662  167143.0   2.075331  -0.379364  -2.613121  0.395113   0.689749 -0.771710   \n",
       "510   46260.0   1.276246   0.073218   0.157897  0.324545  -0.150865 -0.230579   \n",
       "68    26961.0 -23.237920  13.487386 -25.188773  6.261733 -17.345188 -4.534989   \n",
       "294   93823.0  -3.821939   5.667247  -9.244963  8.246147  -4.368286 -3.450735   \n",
       "\n",
       "            V7         V8        V9  ...       V20       V21       V22  \\\n",
       "633  -0.341409   1.040600  1.048631  ...  0.457822 -0.237272 -0.327530   \n",
       "662   0.637074  -0.442253 -1.488096  ... -0.570615 -0.011997  0.435222   \n",
       "510  -0.160269   0.078736  0.066164  ... -0.152044 -0.277651 -0.904890   \n",
       "68  -17.100492  15.374630 -3.845567  ...  1.630787  1.769708 -1.691973   \n",
       "294  -8.427378   2.305609 -5.338079  ...  1.115247  1.990520  0.083353   \n",
       "\n",
       "          V23       V24       V25       V26       V27       V28  Amount  \n",
       "633  0.169846 -0.331942 -0.012874  0.769647  0.427084  0.050303    3.07  \n",
       "662 -0.295213 -0.802587  0.781623 -0.168468 -0.045675 -0.080806   74.00  \n",
       "510  0.040404 -0.542788  0.247931  0.133455 -0.043461 -0.002877    0.89  \n",
       "68  -1.045673  0.143386  1.611577 -0.221576  1.481233  0.438125   99.99  \n",
       "294 -0.062264  0.390188  0.329884  0.098017  1.869570  1.000850   75.86  \n",
       "\n",
       "[5 rows x 30 columns]"
      ]
     },
     "execution_count": 23,
     "metadata": {},
     "output_type": "execute_result"
    }
   ],
   "source": [
    "X_train.head()"
   ]
  },
  {
   "cell_type": "markdown",
   "metadata": {
    "id": "9VBTun0s5CWM"
   },
   "source": [
    "**Scale the data**"
   ]
  },
  {
   "cell_type": "code",
   "execution_count": 24,
   "metadata": {
    "id": "h_gV2RsM5Bb0"
   },
   "outputs": [],
   "source": [
    "scaler = StandardScaler()\n",
    "X_train = scaler.fit_transform(X_train)\n",
    "# We will not only transform the X_test because it avoids overfitting \n",
    "# This means we are transforming X_test based on the findings of X_train\n",
    "X_test = scaler.transform(X_test) "
   ]
  },
  {
   "cell_type": "code",
   "execution_count": 25,
   "metadata": {
    "id": "Xz6xlwsz5gs7"
   },
   "outputs": [],
   "source": [
    "# Convert y_train and y_test to numpy arrays\n",
    "y_train = y_train.to_numpy()"
   ]
  },
  {
   "cell_type": "code",
   "execution_count": 26,
   "metadata": {
    "id": "Ic16VBt255Ej"
   },
   "outputs": [],
   "source": [
    "y_test = y_test.to_numpy()"
   ]
  },
  {
   "cell_type": "code",
   "execution_count": 27,
   "metadata": {
    "colab": {
     "base_uri": "https://localhost:8080/"
    },
    "id": "BjgtiRzE59jr",
    "outputId": "ab5f5b75-fe29-4af3-cae1-089323ea14ff"
   },
   "outputs": [
    {
     "data": {
      "text/plain": [
       "(688, 30)"
      ]
     },
     "execution_count": 27,
     "metadata": {},
     "output_type": "execute_result"
    }
   ],
   "source": [
    "X_train.shape"
   ]
  },
  {
   "cell_type": "code",
   "execution_count": 28,
   "metadata": {
    "id": "v2c7FC9e8Agk"
   },
   "outputs": [],
   "source": [
    "X_train = X_train.reshape(X_train.shape[0], X_train.shape[1], 1)\n",
    "X_test = X_test.reshape(X_test.shape[0], X_test.shape[1], 1)"
   ]
  },
  {
   "cell_type": "code",
   "execution_count": 29,
   "metadata": {
    "colab": {
     "base_uri": "https://localhost:8080/"
    },
    "id": "cB8MDK3X8Ps7",
    "outputId": "f8a748d9-2d4c-41d7-e469-b75c6b93c33e"
   },
   "outputs": [
    {
     "data": {
      "text/plain": [
       "((688, 30, 1), (296, 30, 1))"
      ]
     },
     "execution_count": 29,
     "metadata": {},
     "output_type": "execute_result"
    }
   ],
   "source": [
    "X_train.shape, X_test.shape"
   ]
  },
  {
   "cell_type": "markdown",
   "metadata": {
    "id": "jvBTiTcl8Zmb"
   },
   "source": [
    "**Build CNN Model**"
   ]
  },
  {
   "cell_type": "code",
   "execution_count": 30,
   "metadata": {
    "id": "8N-btW__8R57"
   },
   "outputs": [],
   "source": [
    "epochs = 20\n",
    "model = Sequential()\n",
    "model.add(Conv1D(32, 2, activation='relu', input_shape=X_train[0].shape))\n",
    "model.add(BatchNormalization())\n",
    "model.add(Dropout(0.2)) # dropout 20% of neurons\n",
    "\n",
    "model.add(Conv1D(64, 2, activation='relu'))\n",
    "model.add(BatchNormalization())\n",
    "model.add(Dropout(0.5))\n",
    "\n",
    "model.add(Flatten()) # Flatten our 3D data into a vector\n",
    "model.add(Dense(64, activation='relu'))\n",
    "model.add(Dropout(0.5))\n",
    "\n",
    "model.add(Dense(1, activation='sigmoid'))"
   ]
  },
  {
   "cell_type": "code",
   "execution_count": 31,
   "metadata": {
    "colab": {
     "base_uri": "https://localhost:8080/"
    },
    "id": "XtFEydbQ-k3M",
    "outputId": "a6a1b058-2497-4d90-f72a-3f1c453b4bd5"
   },
   "outputs": [
    {
     "name": "stdout",
     "output_type": "stream",
     "text": [
      "Model: \"sequential\"\n",
      "_________________________________________________________________\n",
      "Layer (type)                 Output Shape              Param #   \n",
      "=================================================================\n",
      "conv1d (Conv1D)              (None, 29, 32)            96        \n",
      "_________________________________________________________________\n",
      "batch_normalization (BatchNo (None, 29, 32)            128       \n",
      "_________________________________________________________________\n",
      "dropout (Dropout)            (None, 29, 32)            0         \n",
      "_________________________________________________________________\n",
      "conv1d_1 (Conv1D)            (None, 28, 64)            4160      \n",
      "_________________________________________________________________\n",
      "batch_normalization_1 (Batch (None, 28, 64)            256       \n",
      "_________________________________________________________________\n",
      "dropout_1 (Dropout)          (None, 28, 64)            0         \n",
      "_________________________________________________________________\n",
      "flatten (Flatten)            (None, 1792)              0         \n",
      "_________________________________________________________________\n",
      "dense (Dense)                (None, 64)                114752    \n",
      "_________________________________________________________________\n",
      "dropout_2 (Dropout)          (None, 64)                0         \n",
      "_________________________________________________________________\n",
      "dense_1 (Dense)              (None, 1)                 65        \n",
      "=================================================================\n",
      "Total params: 119,457\n",
      "Trainable params: 119,265\n",
      "Non-trainable params: 192\n",
      "_________________________________________________________________\n"
     ]
    }
   ],
   "source": [
    "model.summary()"
   ]
  },
  {
   "cell_type": "code",
   "execution_count": 32,
   "metadata": {
    "id": "iljdnrwdAKjj"
   },
   "outputs": [],
   "source": [
    "model.compile(optimizer=Adam(lr=0.0001), loss = 'binary_crossentropy', metrics=['accuracy'])"
   ]
  },
  {
   "cell_type": "code",
   "execution_count": 33,
   "metadata": {
    "colab": {
     "base_uri": "https://localhost:8080/"
    },
    "id": "9TdHF1gNAvcc",
    "outputId": "0cf7d03c-d811-48e7-e922-95fc20235d07"
   },
   "outputs": [
    {
     "name": "stdout",
     "output_type": "stream",
     "text": [
      "Epoch 1/20\n",
      "22/22 [==============================] - 98s 1s/step - loss: 1.2783 - accuracy: 0.6138 - val_loss: 0.6480 - val_accuracy: 0.7601\n",
      "Epoch 2/20\n",
      "22/22 [==============================] - 0s 15ms/step - loss: 0.8942 - accuracy: 0.6751 - val_loss: 0.6037 - val_accuracy: 0.8041\n",
      "Epoch 3/20\n",
      "22/22 [==============================] - 0s 16ms/step - loss: 0.6537 - accuracy: 0.7794 - val_loss: 0.5751 - val_accuracy: 0.8547\n",
      "Epoch 4/20\n",
      "22/22 [==============================] - 0s 15ms/step - loss: 0.5666 - accuracy: 0.8252 - val_loss: 0.5493 - val_accuracy: 0.8851\n",
      "Epoch 5/20\n",
      "22/22 [==============================] - 0s 13ms/step - loss: 0.4413 - accuracy: 0.8443 - val_loss: 0.5221 - val_accuracy: 0.8953\n",
      "Epoch 6/20\n",
      "22/22 [==============================] - 0s 13ms/step - loss: 0.3888 - accuracy: 0.8625 - val_loss: 0.4961 - val_accuracy: 0.9088\n",
      "Epoch 7/20\n",
      "22/22 [==============================] - 0s 15ms/step - loss: 0.3298 - accuracy: 0.8820 - val_loss: 0.4720 - val_accuracy: 0.9020\n",
      "Epoch 8/20\n",
      "22/22 [==============================] - 0s 13ms/step - loss: 0.2762 - accuracy: 0.9091 - val_loss: 0.4457 - val_accuracy: 0.8986\n",
      "Epoch 9/20\n",
      "22/22 [==============================] - 0s 14ms/step - loss: 0.3393 - accuracy: 0.8859 - val_loss: 0.4254 - val_accuracy: 0.9020\n",
      "Epoch 10/20\n",
      "22/22 [==============================] - 0s 13ms/step - loss: 0.2605 - accuracy: 0.9089 - val_loss: 0.4068 - val_accuracy: 0.8885\n",
      "Epoch 11/20\n",
      "22/22 [==============================] - 0s 13ms/step - loss: 0.2797 - accuracy: 0.8907 - val_loss: 0.3706 - val_accuracy: 0.9122\n",
      "Epoch 12/20\n",
      "22/22 [==============================] - 0s 14ms/step - loss: 0.2530 - accuracy: 0.9243 - val_loss: 0.3500 - val_accuracy: 0.9088\n",
      "Epoch 13/20\n",
      "22/22 [==============================] - 0s 13ms/step - loss: 0.3008 - accuracy: 0.8805 - val_loss: 0.3404 - val_accuracy: 0.8953\n",
      "Epoch 14/20\n",
      "22/22 [==============================] - 0s 13ms/step - loss: 0.2102 - accuracy: 0.9263 - val_loss: 0.3160 - val_accuracy: 0.9054\n",
      "Epoch 15/20\n",
      "22/22 [==============================] - 0s 13ms/step - loss: 0.2547 - accuracy: 0.9150 - val_loss: 0.3022 - val_accuracy: 0.9054\n",
      "Epoch 16/20\n",
      "22/22 [==============================] - 0s 14ms/step - loss: 0.2261 - accuracy: 0.9161 - val_loss: 0.2792 - val_accuracy: 0.9155\n",
      "Epoch 17/20\n",
      "22/22 [==============================] - 0s 14ms/step - loss: 0.2500 - accuracy: 0.9183 - val_loss: 0.2688 - val_accuracy: 0.9189\n",
      "Epoch 18/20\n",
      "22/22 [==============================] - 0s 13ms/step - loss: 0.1938 - accuracy: 0.9314 - val_loss: 0.2542 - val_accuracy: 0.9189\n",
      "Epoch 19/20\n",
      "22/22 [==============================] - 0s 13ms/step - loss: 0.1992 - accuracy: 0.9282 - val_loss: 0.2481 - val_accuracy: 0.9223\n",
      "Epoch 20/20\n",
      "22/22 [==============================] - 0s 14ms/step - loss: 0.1754 - accuracy: 0.9347 - val_loss: 0.2306 - val_accuracy: 0.9324\n"
     ]
    }
   ],
   "source": [
    "history = model.fit(X_train, y_train, epochs=epochs, validation_data=(X_test, y_test), verbose=1)"
   ]
  },
  {
   "cell_type": "code",
   "execution_count": 34,
   "metadata": {
    "id": "kNiwFRFbA_HC"
   },
   "outputs": [],
   "source": [
    "def plot_learningCurve(history, epoch):\n",
    "  # plot training  validation accuracy values\n",
    "  epoch_range = range(1, epoch+1)\n",
    "  plt.plot(epoch_range, history.history['accuracy'])\n",
    "  plt.plot(epoch_range, history.history['val_accuracy'])\n",
    "  plt.title('Model Accuracy')\n",
    "  plt.xlabel('Epoch')\n",
    "  plt.ylabel('Accuracy')\n",
    "  plt.legend(['Train', 'Val'], loc = 'upper left')\n",
    "  plt.show()\n",
    "\n",
    "  # plot training & valiation loss values\n",
    "  plt.plot(epoch_range, history.history['loss'])\n",
    "  plt.plot(epoch_range, history.history['val_loss'])\n",
    "  plt.title('Model Loss')\n",
    "  plt.xlabel('Epoch')\n",
    "  plt.ylabel('Loss')\n",
    "  plt.legend(['Train', 'Val'], loc = 'upper left')\n",
    "  plt.show()"
   ]
  },
  {
   "cell_type": "code",
   "execution_count": 35,
   "metadata": {
    "colab": {
     "base_uri": "https://localhost:8080/",
     "height": 573
    },
    "id": "DObdaTTDCpb0",
    "outputId": "8ee00a57-0014-444e-ae01-fd0db24b615c"
   },
   "outputs": [
    {
     "data": {
      "image/png": "[encoded data removed]",
      "text/plain": [
       "<Figure size 432x288 with 1 Axes>"
      ]
     },
     "metadata": {
      "needs_background": "light"
     },
     "output_type": "display_data"
    },
    {
     "data": {
      "image/png": "[encoded data removed]",
      "text/plain": [
       "<Figure size 432x288 with 1 Axes>"
      ]
     },
     "metadata": {
      "needs_background": "light"
     },
     "output_type": "display_data"
    }
   ],
   "source": [
    "plot_learningCurve(history, epochs)"
   ]
  },
  {
   "cell_type": "markdown",
   "metadata": {
    "id": "h0JCtWu8C9uj"
   },
   "source": [
    "**Adding MaxPool**"
   ]
  },
  {
   "cell_type": "code",
   "execution_count": 85,
   "metadata": {
    "id": "D61bec6fufev"
   },
   "outputs": [],
   "source": [
    "epochs = 100\n",
    "model = Sequential()\n",
    "model.add(Conv1D(10, 2, activation='relu', input_shape=X_train[0].shape))\n",
    "model.add(BatchNormalization())\n",
    "model.add(MaxPool1D(2))\n",
    "model.add(Dropout(0.2)) # dropout 20% of neurons\n",
    "\n",
    "model.add(Conv1D(8, 2, activation='relu'))\n",
    "model.add(BatchNormalization())\n",
    "model.add(MaxPool1D(2))\n",
    "model.add(Dropout(0.5))\n",
    "\n",
    "model.add(Flatten()) # Flatten our 3D data into a vector\n",
    "model.add(Dense(6, activation='relu'))\n",
    "model.add(Dropout(0.5))\n",
    "\n",
    "model.add(Dense(1, activation='sigmoid'))"
   ]
  },
  {
   "cell_type": "code",
   "execution_count": 86,
   "metadata": {
    "colab": {
     "base_uri": "https://localhost:8080/",
     "height": 1000
    },
    "id": "z3HnXkw_uhjD",
    "outputId": "e3ab1731-45cf-43a4-8a05-7f59854689d1"
   },
   "outputs": [
    {
     "name": "stdout",
     "output_type": "stream",
     "text": [
      "Epoch 1/100\n",
      "22/22 [==============================] - 1s 16ms/step - loss: 1.3924 - accuracy: 0.3988 - val_loss: 0.7612 - val_accuracy: 0.3716\n",
      "Epoch 2/100\n",
      "22/22 [==============================] - 0s 6ms/step - loss: 1.3413 - accuracy: 0.4141 - val_loss: 0.7426 - val_accuracy: 0.3851\n",
      "Epoch 3/100\n",
      "22/22 [==============================] - 0s 6ms/step - loss: 1.4764 - accuracy: 0.4412 - val_loss: 0.7308 - val_accuracy: 0.3716\n",
      "Epoch 4/100\n",
      "22/22 [==============================] - 0s 6ms/step - loss: 1.4142 - accuracy: 0.4452 - val_loss: 0.7269 - val_accuracy: 0.3953\n",
      "Epoch 5/100\n",
      "22/22 [==============================] - 0s 6ms/step - loss: 1.4711 - accuracy: 0.4499 - val_loss: 0.7268 - val_accuracy: 0.4020\n",
      "Epoch 6/100\n",
      "22/22 [==============================] - 0s 6ms/step - loss: 1.1771 - accuracy: 0.4890 - val_loss: 0.7296 - val_accuracy: 0.4223\n",
      "Epoch 7/100\n",
      "22/22 [==============================] - 0s 6ms/step - loss: 1.3837 - accuracy: 0.4005 - val_loss: 0.7327 - val_accuracy: 0.4291\n",
      "Epoch 8/100\n",
      "22/22 [==============================] - 0s 6ms/step - loss: 1.3116 - accuracy: 0.4594 - val_loss: 0.7350 - val_accuracy: 0.4155\n",
      "Epoch 9/100\n",
      "22/22 [==============================] - 0s 6ms/step - loss: 1.4213 - accuracy: 0.4511 - val_loss: 0.7381 - val_accuracy: 0.4223\n",
      "Epoch 10/100\n",
      "22/22 [==============================] - 0s 6ms/step - loss: 1.2746 - accuracy: 0.5012 - val_loss: 0.7410 - val_accuracy: 0.3953\n",
      "Epoch 11/100\n",
      "22/22 [==============================] - 0s 6ms/step - loss: 1.1631 - accuracy: 0.4818 - val_loss: 0.7438 - val_accuracy: 0.4088\n",
      "Epoch 12/100\n",
      "22/22 [==============================] - 0s 6ms/step - loss: 1.3151 - accuracy: 0.4490 - val_loss: 0.7446 - val_accuracy: 0.4020\n",
      "Epoch 13/100\n",
      "22/22 [==============================] - 0s 6ms/step - loss: 1.3598 - accuracy: 0.4967 - val_loss: 0.7438 - val_accuracy: 0.4155\n",
      "Epoch 14/100\n",
      "22/22 [==============================] - 0s 6ms/step - loss: 1.1462 - accuracy: 0.5205 - val_loss: 0.7434 - val_accuracy: 0.4324\n",
      "Epoch 15/100\n",
      "22/22 [==============================] - 0s 6ms/step - loss: 1.1749 - accuracy: 0.4589 - val_loss: 0.7423 - val_accuracy: 0.4561\n",
      "Epoch 16/100\n",
      "22/22 [==============================] - 0s 6ms/step - loss: 1.1375 - accuracy: 0.4863 - val_loss: 0.7404 - val_accuracy: 0.4459\n",
      "Epoch 17/100\n",
      "22/22 [==============================] - 0s 6ms/step - loss: 1.2640 - accuracy: 0.4562 - val_loss: 0.7363 - val_accuracy: 0.4628\n",
      "Epoch 18/100\n",
      "22/22 [==============================] - 0s 6ms/step - loss: 1.2838 - accuracy: 0.4687 - val_loss: 0.7320 - val_accuracy: 0.4595\n",
      "Epoch 19/100\n",
      "22/22 [==============================] - 0s 6ms/step - loss: 1.0640 - accuracy: 0.5061 - val_loss: 0.7260 - val_accuracy: 0.4662\n",
      "Epoch 20/100\n",
      "22/22 [==============================] - 0s 6ms/step - loss: 1.2360 - accuracy: 0.5200 - val_loss: 0.7202 - val_accuracy: 0.4865\n",
      "Epoch 21/100\n",
      "22/22 [==============================] - 0s 6ms/step - loss: 1.1873 - accuracy: 0.4823 - val_loss: 0.7141 - val_accuracy: 0.5169\n",
      "Epoch 22/100\n",
      "22/22 [==============================] - 0s 6ms/step - loss: 0.9588 - accuracy: 0.5363 - val_loss: 0.7070 - val_accuracy: 0.5304\n",
      "Epoch 23/100\n",
      "22/22 [==============================] - 0s 6ms/step - loss: 1.1572 - accuracy: 0.4892 - val_loss: 0.7006 - val_accuracy: 0.5372\n",
      "Epoch 24/100\n",
      "22/22 [==============================] - 0s 6ms/step - loss: 1.0208 - accuracy: 0.5030 - val_loss: 0.6944 - val_accuracy: 0.5507\n",
      "Epoch 25/100\n",
      "22/22 [==============================] - 0s 6ms/step - loss: 0.9853 - accuracy: 0.4795 - val_loss: 0.6881 - val_accuracy: 0.5473\n",
      "Epoch 26/100\n",
      "22/22 [==============================] - 0s 6ms/step - loss: 1.0443 - accuracy: 0.5171 - val_loss: 0.6812 - val_accuracy: 0.5608\n",
      "Epoch 27/100\n",
      "22/22 [==============================] - 0s 6ms/step - loss: 1.0265 - accuracy: 0.5109 - val_loss: 0.6760 - val_accuracy: 0.5676\n",
      "Epoch 28/100\n",
      "22/22 [==============================] - 0s 6ms/step - loss: 0.9695 - accuracy: 0.5043 - val_loss: 0.6701 - val_accuracy: 0.5878\n",
      "Epoch 29/100\n",
      "22/22 [==============================] - 0s 6ms/step - loss: 1.0431 - accuracy: 0.5142 - val_loss: 0.6641 - val_accuracy: 0.5946\n",
      "Epoch 30/100\n",
      "22/22 [==============================] - 0s 6ms/step - loss: 0.9320 - accuracy: 0.5028 - val_loss: 0.6588 - val_accuracy: 0.6014\n",
      "Epoch 31/100\n",
      "22/22 [==============================] - 0s 6ms/step - loss: 0.9602 - accuracy: 0.5120 - val_loss: 0.6531 - val_accuracy: 0.6047\n",
      "Epoch 32/100\n",
      "22/22 [==============================] - 0s 7ms/step - loss: 1.0542 - accuracy: 0.5065 - val_loss: 0.6476 - val_accuracy: 0.6149\n",
      "Epoch 33/100\n",
      "22/22 [==============================] - 0s 7ms/step - loss: 0.8467 - accuracy: 0.5960 - val_loss: 0.6441 - val_accuracy: 0.6250\n",
      "Epoch 34/100\n",
      "22/22 [==============================] - 0s 6ms/step - loss: 0.9599 - accuracy: 0.5168 - val_loss: 0.6393 - val_accuracy: 0.6351\n",
      "Epoch 35/100\n",
      "22/22 [==============================] - 0s 6ms/step - loss: 0.8797 - accuracy: 0.5490 - val_loss: 0.6342 - val_accuracy: 0.6453\n",
      "Epoch 36/100\n",
      "22/22 [==============================] - 0s 6ms/step - loss: 0.8530 - accuracy: 0.5565 - val_loss: 0.6294 - val_accuracy: 0.6453\n",
      "Epoch 37/100\n",
      "22/22 [==============================] - 0s 6ms/step - loss: 0.9033 - accuracy: 0.5596 - val_loss: 0.6246 - val_accuracy: 0.6486\n",
      "Epoch 38/100\n",
      "22/22 [==============================] - 0s 6ms/step - loss: 0.8455 - accuracy: 0.5891 - val_loss: 0.6210 - val_accuracy: 0.6520\n",
      "Epoch 39/100\n",
      "22/22 [==============================] - 0s 6ms/step - loss: 0.8828 - accuracy: 0.5471 - val_loss: 0.6176 - val_accuracy: 0.6486\n",
      "Epoch 40/100\n",
      "22/22 [==============================] - 0s 6ms/step - loss: 0.8561 - accuracy: 0.5599 - val_loss: 0.6142 - val_accuracy: 0.6520\n",
      "Epoch 41/100\n",
      "22/22 [==============================] - 0s 6ms/step - loss: 0.8511 - accuracy: 0.5430 - val_loss: 0.6104 - val_accuracy: 0.6588\n",
      "Epoch 42/100\n",
      "22/22 [==============================] - 0s 6ms/step - loss: 0.8539 - accuracy: 0.5534 - val_loss: 0.6069 - val_accuracy: 0.6655\n",
      "Epoch 43/100\n",
      "22/22 [==============================] - 0s 5ms/step - loss: 0.8806 - accuracy: 0.5532 - val_loss: 0.6036 - val_accuracy: 0.6723\n",
      "Epoch 44/100\n",
      "22/22 [==============================] - 0s 6ms/step - loss: 0.7610 - accuracy: 0.5655 - val_loss: 0.6009 - val_accuracy: 0.6791\n",
      "Epoch 45/100\n",
      "22/22 [==============================] - 0s 6ms/step - loss: 0.8424 - accuracy: 0.5817 - val_loss: 0.5980 - val_accuracy: 0.6858\n",
      "Epoch 46/100\n",
      "22/22 [==============================] - 0s 6ms/step - loss: 0.8345 - accuracy: 0.5639 - val_loss: 0.5943 - val_accuracy: 0.6993\n",
      "Epoch 47/100\n",
      "22/22 [==============================] - 0s 6ms/step - loss: 0.8183 - accuracy: 0.6024 - val_loss: 0.5907 - val_accuracy: 0.7027\n",
      "Epoch 48/100\n",
      "22/22 [==============================] - 0s 6ms/step - loss: 0.7575 - accuracy: 0.5801 - val_loss: 0.5879 - val_accuracy: 0.7027\n",
      "Epoch 49/100\n",
      "22/22 [==============================] - 0s 6ms/step - loss: 0.7850 - accuracy: 0.5688 - val_loss: 0.5856 - val_accuracy: 0.7027\n",
      "Epoch 50/100\n",
      "22/22 [==============================] - 0s 6ms/step - loss: 0.7482 - accuracy: 0.5822 - val_loss: 0.5822 - val_accuracy: 0.7061\n",
      "Epoch 51/100\n",
      "22/22 [==============================] - 0s 6ms/step - loss: 0.7639 - accuracy: 0.6124 - val_loss: 0.5799 - val_accuracy: 0.7196\n",
      "Epoch 52/100\n",
      "22/22 [==============================] - 0s 5ms/step - loss: 0.7757 - accuracy: 0.5617 - val_loss: 0.5765 - val_accuracy: 0.7230\n",
      "Epoch 53/100\n",
      "22/22 [==============================] - 0s 6ms/step - loss: 0.7701 - accuracy: 0.6090 - val_loss: 0.5737 - val_accuracy: 0.7331\n",
      "Epoch 54/100\n",
      "22/22 [==============================] - 0s 6ms/step - loss: 0.7395 - accuracy: 0.6059 - val_loss: 0.5711 - val_accuracy: 0.7432\n",
      "Epoch 55/100\n",
      "22/22 [==============================] - 0s 6ms/step - loss: 0.7740 - accuracy: 0.5856 - val_loss: 0.5684 - val_accuracy: 0.7432\n",
      "Epoch 56/100\n",
      "22/22 [==============================] - 0s 6ms/step - loss: 0.6843 - accuracy: 0.6156 - val_loss: 0.5660 - val_accuracy: 0.7399\n",
      "Epoch 57/100\n",
      "22/22 [==============================] - 0s 6ms/step - loss: 0.7528 - accuracy: 0.5975 - val_loss: 0.5641 - val_accuracy: 0.7399\n",
      "Epoch 58/100\n",
      "22/22 [==============================] - 0s 6ms/step - loss: 0.6863 - accuracy: 0.6182 - val_loss: 0.5618 - val_accuracy: 0.7500\n",
      "Epoch 59/100\n",
      "22/22 [==============================] - 0s 6ms/step - loss: 0.7741 - accuracy: 0.6084 - val_loss: 0.5590 - val_accuracy: 0.7534\n",
      "Epoch 60/100\n",
      "22/22 [==============================] - 0s 6ms/step - loss: 0.6764 - accuracy: 0.6280 - val_loss: 0.5569 - val_accuracy: 0.7601\n",
      "Epoch 61/100\n",
      "22/22 [==============================] - 0s 6ms/step - loss: 0.7413 - accuracy: 0.5940 - val_loss: 0.5549 - val_accuracy: 0.7635\n",
      "Epoch 62/100\n",
      "22/22 [==============================] - 0s 6ms/step - loss: 0.7514 - accuracy: 0.6046 - val_loss: 0.5526 - val_accuracy: 0.7635\n",
      "Epoch 63/100\n",
      "22/22 [==============================] - 0s 6ms/step - loss: 0.6974 - accuracy: 0.6264 - val_loss: 0.5505 - val_accuracy: 0.7669\n",
      "Epoch 64/100\n",
      "22/22 [==============================] - 0s 7ms/step - loss: 0.7236 - accuracy: 0.6309 - val_loss: 0.5477 - val_accuracy: 0.7669\n",
      "Epoch 65/100\n",
      "22/22 [==============================] - 0s 6ms/step - loss: 0.6696 - accuracy: 0.6331 - val_loss: 0.5455 - val_accuracy: 0.7669\n",
      "Epoch 66/100\n",
      "22/22 [==============================] - 0s 6ms/step - loss: 0.7030 - accuracy: 0.6156 - val_loss: 0.5436 - val_accuracy: 0.7703\n",
      "Epoch 67/100\n",
      "22/22 [==============================] - 0s 6ms/step - loss: 0.6347 - accuracy: 0.6584 - val_loss: 0.5418 - val_accuracy: 0.7736\n",
      "Epoch 68/100\n",
      "22/22 [==============================] - 0s 6ms/step - loss: 0.6502 - accuracy: 0.6461 - val_loss: 0.5398 - val_accuracy: 0.7736\n",
      "Epoch 69/100\n",
      "22/22 [==============================] - 0s 7ms/step - loss: 0.7398 - accuracy: 0.5839 - val_loss: 0.5378 - val_accuracy: 0.7838\n",
      "Epoch 70/100\n",
      "22/22 [==============================] - 0s 6ms/step - loss: 0.7103 - accuracy: 0.6116 - val_loss: 0.5353 - val_accuracy: 0.7838\n",
      "Epoch 71/100\n",
      "22/22 [==============================] - 0s 6ms/step - loss: 0.6716 - accuracy: 0.6447 - val_loss: 0.5334 - val_accuracy: 0.7939\n",
      "Epoch 72/100\n",
      "22/22 [==============================] - 0s 6ms/step - loss: 0.6638 - accuracy: 0.6662 - val_loss: 0.5317 - val_accuracy: 0.8041\n",
      "Epoch 73/100\n",
      "22/22 [==============================] - 0s 6ms/step - loss: 0.7079 - accuracy: 0.6089 - val_loss: 0.5304 - val_accuracy: 0.8007\n",
      "Epoch 74/100\n",
      "22/22 [==============================] - 0s 6ms/step - loss: 0.6994 - accuracy: 0.6088 - val_loss: 0.5294 - val_accuracy: 0.8007\n",
      "Epoch 75/100\n",
      "22/22 [==============================] - 0s 6ms/step - loss: 0.6712 - accuracy: 0.6320 - val_loss: 0.5278 - val_accuracy: 0.8007\n",
      "Epoch 76/100\n",
      "22/22 [==============================] - 0s 7ms/step - loss: 0.6696 - accuracy: 0.6500 - val_loss: 0.5261 - val_accuracy: 0.8041\n",
      "Epoch 77/100\n",
      "22/22 [==============================] - 0s 7ms/step - loss: 0.6339 - accuracy: 0.6411 - val_loss: 0.5241 - val_accuracy: 0.8074\n",
      "Epoch 78/100\n",
      "22/22 [==============================] - 0s 7ms/step - loss: 0.6909 - accuracy: 0.6444 - val_loss: 0.5225 - val_accuracy: 0.8108\n",
      "Epoch 79/100\n",
      "22/22 [==============================] - 0s 6ms/step - loss: 0.6271 - accuracy: 0.6570 - val_loss: 0.5213 - val_accuracy: 0.8142\n",
      "Epoch 80/100\n",
      "22/22 [==============================] - 0s 6ms/step - loss: 0.6201 - accuracy: 0.6734 - val_loss: 0.5194 - val_accuracy: 0.8209\n",
      "Epoch 81/100\n",
      "22/22 [==============================] - 0s 6ms/step - loss: 0.6239 - accuracy: 0.6291 - val_loss: 0.5177 - val_accuracy: 0.8176\n",
      "Epoch 82/100\n",
      "22/22 [==============================] - 0s 6ms/step - loss: 0.6256 - accuracy: 0.6737 - val_loss: 0.5166 - val_accuracy: 0.8176\n",
      "Epoch 83/100\n",
      "22/22 [==============================] - 0s 6ms/step - loss: 0.6614 - accuracy: 0.6561 - val_loss: 0.5148 - val_accuracy: 0.8209\n",
      "Epoch 84/100\n",
      "22/22 [==============================] - 0s 6ms/step - loss: 0.6447 - accuracy: 0.6418 - val_loss: 0.5129 - val_accuracy: 0.8209\n",
      "Epoch 85/100\n",
      "22/22 [==============================] - 0s 6ms/step - loss: 0.6358 - accuracy: 0.6890 - val_loss: 0.5112 - val_accuracy: 0.8243\n",
      "Epoch 86/100\n",
      "22/22 [==============================] - 0s 6ms/step - loss: 0.5722 - accuracy: 0.7000 - val_loss: 0.5099 - val_accuracy: 0.8243\n",
      "Epoch 87/100\n",
      "22/22 [==============================] - 0s 6ms/step - loss: 0.6408 - accuracy: 0.6279 - val_loss: 0.5087 - val_accuracy: 0.8311\n",
      "Epoch 88/100\n",
      "22/22 [==============================] - 0s 6ms/step - loss: 0.6644 - accuracy: 0.6413 - val_loss: 0.5067 - val_accuracy: 0.8311\n",
      "Epoch 89/100\n",
      "22/22 [==============================] - 0s 6ms/step - loss: 0.6459 - accuracy: 0.6372 - val_loss: 0.5053 - val_accuracy: 0.8311\n",
      "Epoch 90/100\n",
      "22/22 [==============================] - 0s 6ms/step - loss: 0.6233 - accuracy: 0.6392 - val_loss: 0.5037 - val_accuracy: 0.8345\n",
      "Epoch 91/100\n",
      "22/22 [==============================] - 0s 6ms/step - loss: 0.5864 - accuracy: 0.6884 - val_loss: 0.5020 - val_accuracy: 0.8345\n",
      "Epoch 92/100\n",
      "22/22 [==============================] - 0s 6ms/step - loss: 0.5798 - accuracy: 0.6736 - val_loss: 0.5003 - val_accuracy: 0.8378\n",
      "Epoch 93/100\n",
      "22/22 [==============================] - 0s 6ms/step - loss: 0.6186 - accuracy: 0.6675 - val_loss: 0.4985 - val_accuracy: 0.8378\n",
      "Epoch 94/100\n",
      "22/22 [==============================] - 0s 6ms/step - loss: 0.6440 - accuracy: 0.6755 - val_loss: 0.4972 - val_accuracy: 0.8412\n",
      "Epoch 95/100\n",
      "22/22 [==============================] - 0s 6ms/step - loss: 0.5794 - accuracy: 0.6940 - val_loss: 0.4956 - val_accuracy: 0.8412\n",
      "Epoch 96/100\n",
      "22/22 [==============================] - 0s 7ms/step - loss: 0.6086 - accuracy: 0.6408 - val_loss: 0.4948 - val_accuracy: 0.8412\n",
      "Epoch 97/100\n",
      "22/22 [==============================] - 0s 6ms/step - loss: 0.6693 - accuracy: 0.6656 - val_loss: 0.4935 - val_accuracy: 0.8412\n",
      "Epoch 98/100\n",
      "22/22 [==============================] - 0s 6ms/step - loss: 0.6120 - accuracy: 0.6934 - val_loss: 0.4921 - val_accuracy: 0.8412\n",
      "Epoch 99/100\n",
      "22/22 [==============================] - 0s 6ms/step - loss: 0.6313 - accuracy: 0.6660 - val_loss: 0.4907 - val_accuracy: 0.8412\n",
      "Epoch 100/100\n",
      "22/22 [==============================] - 0s 6ms/step - loss: 0.6066 - accuracy: 0.6914 - val_loss: 0.4893 - val_accuracy: 0.8446\n"
     ]
    },
    {
     "data": {
      "image/png": "[encoded data removed]",
      "text/plain": [
       "<Figure size 432x288 with 1 Axes>"
      ]
     },
     "metadata": {
      "needs_background": "light",
      "tags": []
     },
     "output_type": "display_data"
    },
    {
     "data": {
      "image/png": "[encoded data removed]",
      "text/plain": [
       "<Figure size 432x288 with 1 Axes>"
      ]
     },
     "metadata": {
      "needs_background": "light",
      "tags": []
     },
     "output_type": "display_data"
    }
   ],
   "source": [
    "model.compile(optimizer=Adam(lr=0.0001), loss = 'binary_crossentropy', metrics=['accuracy'])\n",
    "history = model.fit(X_train, y_train, epochs=epochs, validation_data=(X_test, y_test), verbose=1)\n",
    "plot_learningCurve(history, epochs)"
   ]
  },
  {
   "cell_type": "code",
   "execution_count": 36,
   "metadata": {
    "id": "X4xvzJc9CtJy"
   },
   "outputs": [],
   "source": [
    "epochs = 50\n",
    "model = Sequential()\n",
    "model.add(Conv1D(32, 2, activation='relu', input_shape=X_train[0].shape))\n",
    "model.add(BatchNormalization())\n",
    "model.add(MaxPool1D(2))\n",
    "model.add(Dropout(0.2)) # dropout 20% of neurons\n",
    "\n",
    "model.add(Conv1D(64, 2, activation='relu'))\n",
    "model.add(BatchNormalization())\n",
    "model.add(MaxPool1D(2))\n",
    "model.add(Dropout(0.5))\n",
    "\n",
    "model.add(Flatten()) # Flatten our 3D data into a vector\n",
    "model.add(Dense(64, activation='relu'))\n",
    "model.add(Dropout(0.5))\n",
    "\n",
    "model.add(Dense(1, activation='sigmoid'))"
   ]
  },
  {
   "cell_type": "code",
   "execution_count": 37,
   "metadata": {
    "colab": {
     "base_uri": "https://localhost:8080/",
     "height": 1000
    },
    "id": "hcd9Dh4oDFRg",
    "outputId": "9ed87660-501c-4456-88c1-a62617ed847b"
   },
   "outputs": [
    {
     "name": "stdout",
     "output_type": "stream",
     "text": [
      "Epoch 1/50\n",
      "22/22 [==============================] - 3s 33ms/step - loss: 1.1292 - accuracy: 0.5356 - val_loss: 0.6391 - val_accuracy: 0.5912\n",
      "Epoch 2/50\n",
      "22/22 [==============================] - 0s 15ms/step - loss: 0.8347 - accuracy: 0.5991 - val_loss: 0.6339 - val_accuracy: 0.5676\n",
      "Epoch 3/50\n",
      "22/22 [==============================] - 0s 15ms/step - loss: 0.6319 - accuracy: 0.6839 - val_loss: 0.6252 - val_accuracy: 0.5473\n",
      "Epoch 4/50\n",
      "22/22 [==============================] - 0s 15ms/step - loss: 0.6323 - accuracy: 0.6936 - val_loss: 0.6075 - val_accuracy: 0.5743\n",
      "Epoch 5/50\n",
      "22/22 [==============================] - 0s 15ms/step - loss: 0.5615 - accuracy: 0.7756 - val_loss: 0.5836 - val_accuracy: 0.6216\n",
      "Epoch 6/50\n",
      "22/22 [==============================] - 0s 16ms/step - loss: 0.4563 - accuracy: 0.7834 - val_loss: 0.5563 - val_accuracy: 0.6993\n",
      "Epoch 7/50\n",
      "22/22 [==============================] - 0s 15ms/step - loss: 0.4655 - accuracy: 0.7919 - val_loss: 0.5258 - val_accuracy: 0.7905\n",
      "Epoch 8/50\n",
      "22/22 [==============================] - 0s 15ms/step - loss: 0.4542 - accuracy: 0.8054 - val_loss: 0.4930 - val_accuracy: 0.8750\n",
      "Epoch 9/50\n",
      "22/22 [==============================] - 0s 15ms/step - loss: 0.4151 - accuracy: 0.8096 - val_loss: 0.4595 - val_accuracy: 0.8986\n",
      "Epoch 10/50\n",
      "22/22 [==============================] - 0s 16ms/step - loss: 0.3565 - accuracy: 0.8454 - val_loss: 0.4293 - val_accuracy: 0.8919\n",
      "Epoch 11/50\n",
      "22/22 [==============================] - 0s 16ms/step - loss: 0.3746 - accuracy: 0.8524 - val_loss: 0.3989 - val_accuracy: 0.9020\n",
      "Epoch 12/50\n",
      "22/22 [==============================] - 0s 16ms/step - loss: 0.4078 - accuracy: 0.8547 - val_loss: 0.3692 - val_accuracy: 0.9020\n",
      "Epoch 13/50\n",
      "22/22 [==============================] - 0s 16ms/step - loss: 0.3676 - accuracy: 0.8382 - val_loss: 0.3435 - val_accuracy: 0.8986\n",
      "Epoch 14/50\n",
      "22/22 [==============================] - 0s 14ms/step - loss: 0.3804 - accuracy: 0.8526 - val_loss: 0.3215 - val_accuracy: 0.9020\n",
      "Epoch 15/50\n",
      "22/22 [==============================] - 0s 14ms/step - loss: 0.3209 - accuracy: 0.8890 - val_loss: 0.3043 - val_accuracy: 0.9020\n",
      "Epoch 16/50\n",
      "22/22 [==============================] - 0s 15ms/step - loss: 0.2919 - accuracy: 0.9021 - val_loss: 0.2916 - val_accuracy: 0.8986\n",
      "Epoch 17/50\n",
      "22/22 [==============================] - 0s 14ms/step - loss: 0.3104 - accuracy: 0.8843 - val_loss: 0.2821 - val_accuracy: 0.8986\n",
      "Epoch 18/50\n",
      "22/22 [==============================] - 0s 15ms/step - loss: 0.3263 - accuracy: 0.8744 - val_loss: 0.2745 - val_accuracy: 0.9020\n",
      "Epoch 19/50\n",
      "22/22 [==============================] - 0s 15ms/step - loss: 0.3155 - accuracy: 0.8783 - val_loss: 0.2690 - val_accuracy: 0.9020\n",
      "Epoch 20/50\n",
      "22/22 [==============================] - 0s 15ms/step - loss: 0.3273 - accuracy: 0.8944 - val_loss: 0.2660 - val_accuracy: 0.9020\n",
      "Epoch 21/50\n",
      "22/22 [==============================] - 0s 15ms/step - loss: 0.2420 - accuracy: 0.9054 - val_loss: 0.2640 - val_accuracy: 0.9020\n",
      "Epoch 22/50\n",
      "22/22 [==============================] - 0s 15ms/step - loss: 0.3295 - accuracy: 0.9010 - val_loss: 0.2651 - val_accuracy: 0.9020\n",
      "Epoch 23/50\n",
      "22/22 [==============================] - 0s 16ms/step - loss: 0.3456 - accuracy: 0.8727 - val_loss: 0.2654 - val_accuracy: 0.9020\n",
      "Epoch 24/50\n",
      "22/22 [==============================] - 0s 15ms/step - loss: 0.3050 - accuracy: 0.8880 - val_loss: 0.2664 - val_accuracy: 0.9020\n",
      "Epoch 25/50\n",
      "22/22 [==============================] - 0s 15ms/step - loss: 0.3134 - accuracy: 0.8871 - val_loss: 0.2693 - val_accuracy: 0.9020\n",
      "Epoch 26/50\n",
      "22/22 [==============================] - 0s 17ms/step - loss: 0.3090 - accuracy: 0.8867 - val_loss: 0.2726 - val_accuracy: 0.9020\n",
      "Epoch 27/50\n",
      "22/22 [==============================] - 0s 16ms/step - loss: 0.2710 - accuracy: 0.8926 - val_loss: 0.2750 - val_accuracy: 0.8986\n",
      "Epoch 28/50\n",
      "22/22 [==============================] - 0s 16ms/step - loss: 0.2523 - accuracy: 0.8985 - val_loss: 0.2747 - val_accuracy: 0.8986\n",
      "Epoch 29/50\n",
      "22/22 [==============================] - 0s 16ms/step - loss: 0.2873 - accuracy: 0.8758 - val_loss: 0.2732 - val_accuracy: 0.9020\n",
      "Epoch 30/50\n",
      "22/22 [==============================] - 0s 15ms/step - loss: 0.2864 - accuracy: 0.8992 - val_loss: 0.2732 - val_accuracy: 0.9020\n",
      "Epoch 31/50\n",
      "22/22 [==============================] - 0s 15ms/step - loss: 0.2996 - accuracy: 0.8940 - val_loss: 0.2742 - val_accuracy: 0.9020\n",
      "Epoch 32/50\n",
      "22/22 [==============================] - 0s 15ms/step - loss: 0.3083 - accuracy: 0.8781 - val_loss: 0.2721 - val_accuracy: 0.9020\n",
      "Epoch 33/50\n",
      "22/22 [==============================] - 0s 15ms/step - loss: 0.2963 - accuracy: 0.8900 - val_loss: 0.2725 - val_accuracy: 0.9020\n",
      "Epoch 34/50\n",
      "22/22 [==============================] - 0s 15ms/step - loss: 0.2423 - accuracy: 0.9262 - val_loss: 0.2732 - val_accuracy: 0.9020\n",
      "Epoch 35/50\n",
      "22/22 [==============================] - 0s 16ms/step - loss: 0.2278 - accuracy: 0.9220 - val_loss: 0.2751 - val_accuracy: 0.9020\n",
      "Epoch 36/50\n",
      "22/22 [==============================] - 0s 15ms/step - loss: 0.2036 - accuracy: 0.9236 - val_loss: 0.2768 - val_accuracy: 0.8986\n",
      "Epoch 37/50\n",
      "22/22 [==============================] - 0s 17ms/step - loss: 0.2592 - accuracy: 0.8975 - val_loss: 0.2759 - val_accuracy: 0.9020\n",
      "Epoch 38/50\n",
      "22/22 [==============================] - 0s 16ms/step - loss: 0.2377 - accuracy: 0.9041 - val_loss: 0.2785 - val_accuracy: 0.8986\n",
      "Epoch 39/50\n",
      "22/22 [==============================] - 0s 15ms/step - loss: 0.3067 - accuracy: 0.8976 - val_loss: 0.2810 - val_accuracy: 0.8986\n",
      "Epoch 40/50\n",
      "22/22 [==============================] - 0s 15ms/step - loss: 0.2306 - accuracy: 0.9148 - val_loss: 0.2799 - val_accuracy: 0.8986\n",
      "Epoch 41/50\n",
      "22/22 [==============================] - 0s 15ms/step - loss: 0.2604 - accuracy: 0.9074 - val_loss: 0.2790 - val_accuracy: 0.9020\n",
      "Epoch 42/50\n",
      "22/22 [==============================] - 0s 15ms/step - loss: 0.2658 - accuracy: 0.8999 - val_loss: 0.2798 - val_accuracy: 0.9020\n",
      "Epoch 43/50\n",
      "22/22 [==============================] - 0s 16ms/step - loss: 0.2846 - accuracy: 0.8930 - val_loss: 0.2792 - val_accuracy: 0.9020\n",
      "Epoch 44/50\n",
      "22/22 [==============================] - 0s 16ms/step - loss: 0.2202 - accuracy: 0.9276 - val_loss: 0.2766 - val_accuracy: 0.9020\n",
      "Epoch 45/50\n",
      "22/22 [==============================] - 0s 15ms/step - loss: 0.2377 - accuracy: 0.9109 - val_loss: 0.2747 - val_accuracy: 0.9020\n",
      "Epoch 46/50\n",
      "22/22 [==============================] - 0s 17ms/step - loss: 0.2436 - accuracy: 0.9188 - val_loss: 0.2742 - val_accuracy: 0.9020\n",
      "Epoch 47/50\n",
      "22/22 [==============================] - 0s 14ms/step - loss: 0.1964 - accuracy: 0.9270 - val_loss: 0.2766 - val_accuracy: 0.9020\n",
      "Epoch 48/50\n",
      "22/22 [==============================] - 0s 14ms/step - loss: 0.1803 - accuracy: 0.9238 - val_loss: 0.2764 - val_accuracy: 0.9020\n",
      "Epoch 49/50\n",
      "22/22 [==============================] - 0s 15ms/step - loss: 0.2142 - accuracy: 0.9216 - val_loss: 0.2778 - val_accuracy: 0.9020\n",
      "Epoch 50/50\n",
      "22/22 [==============================] - 0s 16ms/step - loss: 0.2103 - accuracy: 0.9071 - val_loss: 0.2781 - val_accuracy: 0.9020\n"
     ]
    },
    {
     "data": {
      "image/png": "[encoded data removed]",
      "text/plain": [
       "<Figure size 432x288 with 1 Axes>"
      ]
     },
     "metadata": {
      "needs_background": "light"
     },
     "output_type": "display_data"
    },
    {
     "data": {
      "image/png": "[encoded data removed]",
      "text/plain": [
       "<Figure size 432x288 with 1 Axes>"
      ]
     },
     "metadata": {
      "needs_background": "light"
     },
     "output_type": "display_data"
    }
   ],
   "source": [
    "model.compile(optimizer=Adam(lr=0.0001), loss = 'binary_crossentropy', metrics=['accuracy'])\n",
    "history = model.fit(X_train, y_train, epochs=epochs, validation_data=(X_test, y_test), verbose=1)\n",
    "plot_learningCurve(history, epochs)"
   ]
  },
  {
   "cell_type": "code",
   "execution_count": 38,
   "metadata": {
    "colab": {
     "base_uri": "https://localhost:8080/",
     "height": 1000
    },
    "id": "09k4FB5vDmj6",
    "outputId": "b8dbd452-3d9d-41b7-f00a-ec850166e78d"
   },
   "outputs": [
    {
     "name": "stdout",
     "output_type": "stream",
     "text": [
      "Epoch 1/50\n",
      "22/22 [==============================] - 2s 32ms/step - loss: 0.2271 - accuracy: 0.9113 - val_loss: 0.2759 - val_accuracy: 0.9020\n",
      "Epoch 2/50\n",
      "22/22 [==============================] - 0s 16ms/step - loss: 0.2435 - accuracy: 0.9051 - val_loss: 0.2725 - val_accuracy: 0.9020\n",
      "Epoch 3/50\n",
      "22/22 [==============================] - 0s 16ms/step - loss: 0.1900 - accuracy: 0.9294 - val_loss: 0.2703 - val_accuracy: 0.9054\n",
      "Epoch 4/50\n",
      "22/22 [==============================] - 0s 15ms/step - loss: 0.2320 - accuracy: 0.9119 - val_loss: 0.2724 - val_accuracy: 0.9054\n",
      "Epoch 5/50\n",
      "22/22 [==============================] - 0s 19ms/step - loss: 0.2008 - accuracy: 0.9178 - val_loss: 0.2678 - val_accuracy: 0.9054\n",
      "Epoch 6/50\n",
      "22/22 [==============================] - 0s 19ms/step - loss: 0.1819 - accuracy: 0.9378 - val_loss: 0.2664 - val_accuracy: 0.9054\n",
      "Epoch 7/50\n",
      "22/22 [==============================] - 0s 16ms/step - loss: 0.2153 - accuracy: 0.9185 - val_loss: 0.2664 - val_accuracy: 0.9054\n",
      "Epoch 8/50\n",
      "22/22 [==============================] - 0s 15ms/step - loss: 0.1948 - accuracy: 0.9363 - val_loss: 0.2683 - val_accuracy: 0.9054\n",
      "Epoch 9/50\n",
      "22/22 [==============================] - 0s 17ms/step - loss: 0.2220 - accuracy: 0.9214 - val_loss: 0.2677 - val_accuracy: 0.9054\n",
      "Epoch 10/50\n",
      "22/22 [==============================] - 0s 16ms/step - loss: 0.1955 - accuracy: 0.9180 - val_loss: 0.2673 - val_accuracy: 0.9054\n",
      "Epoch 11/50\n",
      "22/22 [==============================] - 0s 15ms/step - loss: 0.2527 - accuracy: 0.9300 - val_loss: 0.2666 - val_accuracy: 0.9054\n",
      "Epoch 12/50\n",
      "22/22 [==============================] - 0s 14ms/step - loss: 0.2255 - accuracy: 0.9168 - val_loss: 0.2674 - val_accuracy: 0.9054\n",
      "Epoch 13/50\n",
      "22/22 [==============================] - 0s 15ms/step - loss: 0.2084 - accuracy: 0.9197 - val_loss: 0.2675 - val_accuracy: 0.9054\n",
      "Epoch 14/50\n",
      "22/22 [==============================] - 0s 14ms/step - loss: 0.2196 - accuracy: 0.9233 - val_loss: 0.2654 - val_accuracy: 0.9054\n",
      "Epoch 15/50\n",
      "22/22 [==============================] - 0s 16ms/step - loss: 0.2060 - accuracy: 0.9266 - val_loss: 0.2653 - val_accuracy: 0.9054\n",
      "Epoch 16/50\n",
      "22/22 [==============================] - 0s 18ms/step - loss: 0.2138 - accuracy: 0.9301 - val_loss: 0.2671 - val_accuracy: 0.9054\n",
      "Epoch 17/50\n",
      "22/22 [==============================] - 0s 18ms/step - loss: 0.1577 - accuracy: 0.9371 - val_loss: 0.2695 - val_accuracy: 0.9054\n",
      "Epoch 18/50\n",
      "22/22 [==============================] - 0s 21ms/step - loss: 0.2454 - accuracy: 0.9164 - val_loss: 0.2653 - val_accuracy: 0.9054\n",
      "Epoch 19/50\n",
      "22/22 [==============================] - 0s 15ms/step - loss: 0.1445 - accuracy: 0.9450 - val_loss: 0.2635 - val_accuracy: 0.9054\n",
      "Epoch 20/50\n",
      "22/22 [==============================] - 0s 15ms/step - loss: 0.1864 - accuracy: 0.9387 - val_loss: 0.2638 - val_accuracy: 0.9054\n",
      "Epoch 21/50\n",
      "22/22 [==============================] - 0s 14ms/step - loss: 0.1848 - accuracy: 0.9176 - val_loss: 0.2676 - val_accuracy: 0.9054\n",
      "Epoch 22/50\n",
      "22/22 [==============================] - 0s 15ms/step - loss: 0.2342 - accuracy: 0.9239 - val_loss: 0.2679 - val_accuracy: 0.9054\n",
      "Epoch 23/50\n",
      "22/22 [==============================] - 0s 15ms/step - loss: 0.1689 - accuracy: 0.9402 - val_loss: 0.2669 - val_accuracy: 0.9054\n",
      "Epoch 24/50\n",
      "22/22 [==============================] - 0s 15ms/step - loss: 0.2238 - accuracy: 0.8995 - val_loss: 0.2627 - val_accuracy: 0.9054\n",
      "Epoch 25/50\n",
      "22/22 [==============================] - 0s 15ms/step - loss: 0.1615 - accuracy: 0.9392 - val_loss: 0.2602 - val_accuracy: 0.9054\n",
      "Epoch 26/50\n",
      "22/22 [==============================] - 0s 15ms/step - loss: 0.1862 - accuracy: 0.9400 - val_loss: 0.2588 - val_accuracy: 0.9088\n",
      "Epoch 27/50\n",
      "22/22 [==============================] - 0s 15ms/step - loss: 0.1978 - accuracy: 0.9077 - val_loss: 0.2605 - val_accuracy: 0.9054\n",
      "Epoch 28/50\n",
      "22/22 [==============================] - 0s 16ms/step - loss: 0.1916 - accuracy: 0.9261 - val_loss: 0.2592 - val_accuracy: 0.9054\n",
      "Epoch 29/50\n",
      "22/22 [==============================] - 0s 15ms/step - loss: 0.1745 - accuracy: 0.9388 - val_loss: 0.2621 - val_accuracy: 0.9054\n",
      "Epoch 30/50\n",
      "22/22 [==============================] - 0s 15ms/step - loss: 0.1879 - accuracy: 0.9393 - val_loss: 0.2572 - val_accuracy: 0.9054\n",
      "Epoch 31/50\n",
      "22/22 [==============================] - 0s 17ms/step - loss: 0.2066 - accuracy: 0.9268 - val_loss: 0.2590 - val_accuracy: 0.9054\n",
      "Epoch 32/50\n",
      "22/22 [==============================] - 0s 14ms/step - loss: 0.1590 - accuracy: 0.9356 - val_loss: 0.2610 - val_accuracy: 0.9054\n",
      "Epoch 33/50\n",
      "22/22 [==============================] - 0s 14ms/step - loss: 0.1647 - accuracy: 0.9473 - val_loss: 0.2619 - val_accuracy: 0.9054\n",
      "Epoch 34/50\n",
      "22/22 [==============================] - 0s 15ms/step - loss: 0.1851 - accuracy: 0.9295 - val_loss: 0.2617 - val_accuracy: 0.9054\n",
      "Epoch 35/50\n",
      "22/22 [==============================] - 0s 15ms/step - loss: 0.2084 - accuracy: 0.9290 - val_loss: 0.2622 - val_accuracy: 0.9054\n",
      "Epoch 36/50\n",
      "22/22 [==============================] - 0s 15ms/step - loss: 0.1776 - accuracy: 0.9445 - val_loss: 0.2628 - val_accuracy: 0.9054\n",
      "Epoch 37/50\n",
      "22/22 [==============================] - 0s 15ms/step - loss: 0.1590 - accuracy: 0.9380 - val_loss: 0.2632 - val_accuracy: 0.9054\n",
      "Epoch 38/50\n",
      "22/22 [==============================] - 0s 15ms/step - loss: 0.1694 - accuracy: 0.9444 - val_loss: 0.2632 - val_accuracy: 0.9054\n",
      "Epoch 39/50\n",
      "22/22 [==============================] - 0s 15ms/step - loss: 0.2032 - accuracy: 0.9191 - val_loss: 0.2629 - val_accuracy: 0.9054\n",
      "Epoch 40/50\n",
      "22/22 [==============================] - 0s 14ms/step - loss: 0.2194 - accuracy: 0.9174 - val_loss: 0.2625 - val_accuracy: 0.9054\n",
      "Epoch 41/50\n",
      "22/22 [==============================] - 0s 16ms/step - loss: 0.1701 - accuracy: 0.9441 - val_loss: 0.2640 - val_accuracy: 0.9054\n",
      "Epoch 42/50\n",
      "22/22 [==============================] - 0s 16ms/step - loss: 0.1730 - accuracy: 0.9337 - val_loss: 0.2634 - val_accuracy: 0.9054\n",
      "Epoch 43/50\n",
      "22/22 [==============================] - 0s 16ms/step - loss: 0.1434 - accuracy: 0.9442 - val_loss: 0.2602 - val_accuracy: 0.9054\n",
      "Epoch 44/50\n",
      "22/22 [==============================] - 0s 16ms/step - loss: 0.1648 - accuracy: 0.9405 - val_loss: 0.2593 - val_accuracy: 0.9054\n",
      "Epoch 45/50\n",
      "22/22 [==============================] - 0s 19ms/step - loss: 0.1760 - accuracy: 0.9424 - val_loss: 0.2587 - val_accuracy: 0.9054\n",
      "Epoch 46/50\n",
      "22/22 [==============================] - 0s 15ms/step - loss: 0.1974 - accuracy: 0.9257 - val_loss: 0.2580 - val_accuracy: 0.9054\n",
      "Epoch 47/50\n",
      "22/22 [==============================] - 0s 20ms/step - loss: 0.1984 - accuracy: 0.9356 - val_loss: 0.2576 - val_accuracy: 0.9054\n",
      "Epoch 48/50\n",
      "22/22 [==============================] - 0s 15ms/step - loss: 0.1819 - accuracy: 0.9288 - val_loss: 0.2605 - val_accuracy: 0.9054\n",
      "Epoch 49/50\n",
      "22/22 [==============================] - 0s 15ms/step - loss: 0.1983 - accuracy: 0.9301 - val_loss: 0.2604 - val_accuracy: 0.9054\n",
      "Epoch 50/50\n",
      "22/22 [==============================] - 0s 15ms/step - loss: 0.1469 - accuracy: 0.9463 - val_loss: 0.2600 - val_accuracy: 0.9054\n"
     ]
    },
    {
     "data": {
      "image/png": "[encoded data removed]",
      "text/plain": [
       "<Figure size 432x288 with 1 Axes>"
      ]
     },
     "metadata": {
      "needs_background": "light"
     },
     "output_type": "display_data"
    },
    {
     "data": {
      "image/png": "[encoded data removed]",
      "text/plain": [
       "<Figure size 432x288 with 1 Axes>"
      ]
     },
     "metadata": {
      "needs_background": "light"
     },
     "output_type": "display_data"
    }
   ],
   "source": [
    "model.compile(optimizer=Adam(lr=0.0001), loss = 'binary_crossentropy', metrics=['accuracy'])\n",
    "history = model.fit(X_train, y_train, epochs=epochs, validation_data=(X_test, y_test), verbose=1)\n",
    "plot_learningCurve(history, epochs)"
   ]
  },
  {
   "cell_type": "code",
   "execution_count": 39,
   "metadata": {
    "id": "2W7xRRsEu2N5"
   },
   "outputs": [],
   "source": [
    "y_pred = model.predict(X_test)"
   ]
  },
  {
   "cell_type": "code",
   "execution_count": 40,
   "metadata": {
    "colab": {
     "base_uri": "https://localhost:8080/"
    },
    "id": "Yo2Gissau_Lh",
    "outputId": "30db3d71-47d2-441c-f725-a5c768c28824"
   },
   "outputs": [
    {
     "name": "stdout",
     "output_type": "stream",
     "text": [
      "10/10 [==============================] - 0s 5ms/step - loss: 0.2600 - accuracy: 0.9054\n"
     ]
    }
   ],
   "source": [
    "testing = model.evaluate(X_test, y_test)"
   ]
  },
  {
   "cell_type": "code",
   "execution_count": 41,
   "metadata": {
    "id": "5-k1DmFuvcpV"
   },
   "outputs": [],
   "source": [
    "predictions = model.predict(X_test)\n",
    "predictions = predictions.flatten()"
   ]
  },
  {
   "cell_type": "code",
   "execution_count": 42,
   "metadata": {
    "colab": {
     "base_uri": "https://localhost:8080/"
    },
    "id": "XE41rquWvceZ",
    "outputId": "1044f498-8203-413f-dc28-c556ab8e34f4"
   },
   "outputs": [
    {
     "data": {
      "text/plain": [
       "array([0.02430973, 0.01607162, 0.9999864 , 0.02197848, 0.9995553 ,\n",
       "       0.0124724 , 0.7442522 , 0.00876244, 0.03202101, 0.9999821 ,\n",
       "       0.09882271, 0.00739786, 1.        , 0.12444232, 0.9999987 ,\n",
       "       0.9922984 , 0.9999733 , 0.03702996, 0.99999213, 0.99999416,\n",
       "       0.9239254 , 0.0626164 , 1.        , 0.02084331, 0.0529644 ,\n",
       "       0.36098787, 0.01650554, 1.        , 0.00829941, 0.14711303,\n",
       "       0.9786421 , 0.99318886, 0.04978185, 0.04251723, 0.01124911,\n",
       "       0.01440006, 0.02032601, 0.9999732 , 0.01228687, 0.9999871 ,\n",
       "       0.19914465, 0.9999813 , 0.01921964, 0.99997866, 1.        ,\n",
       "       0.01108166, 0.2617126 , 0.00579078, 0.04811121, 0.9999763 ,\n",
       "       0.9999999 , 0.9994617 , 0.9994344 , 1.        , 0.11477797,\n",
       "       0.03193634, 0.05589626, 0.00596812, 0.9999974 , 0.9999838 ,\n",
       "       0.99879634, 0.2900618 , 0.24653362, 0.06328075, 0.0074625 ,\n",
       "       0.9999999 , 0.02891496, 0.06841823, 0.03169997, 0.9998896 ,\n",
       "       0.02759734, 0.76880383, 1.        , 0.0029303 , 0.10939296,\n",
       "       0.9717368 , 0.9996401 , 0.03388798, 0.02889992, 0.9999951 ,\n",
       "       0.99991155, 0.05857092, 0.9969112 , 0.99978703, 0.9644581 ,\n",
       "       0.03195449, 0.9994568 , 0.08560219, 0.19722462, 0.35284644,\n",
       "       0.9999939 , 0.99999976, 0.9999958 , 0.04003521, 0.9999907 ,\n",
       "       0.99557424, 0.10789572, 0.70235974, 0.9999486 , 0.0435025 ,\n",
       "       0.99998784, 0.0105763 , 0.99947995, 0.99536705, 0.17589006,\n",
       "       0.08389235, 0.9999889 , 0.9999907 , 0.19479813, 0.99993193,\n",
       "       0.99908686, 0.9986254 , 0.00311955, 0.05855696, 0.93450004,\n",
       "       0.09718891, 0.9999809 , 0.18560234, 0.99973124, 0.2379889 ,\n",
       "       0.9999999 , 0.99993217, 0.01190808, 0.02768358, 0.03123379,\n",
       "       0.9980038 , 1.        , 0.9999924 , 0.1157117 , 0.9999999 ,\n",
       "       0.04893076, 0.9999999 , 0.02604137, 0.0575517 , 0.04758498,\n",
       "       0.01846631, 0.01920584, 0.00809494, 0.06867637, 0.09955328,\n",
       "       0.9999988 , 0.12793623, 0.99749655, 0.03089586, 0.02281026,\n",
       "       0.9999796 , 0.9935575 , 0.88580334, 0.0350043 , 0.32514215,\n",
       "       0.06150416, 0.00833743, 0.01194445, 0.9999989 , 0.9999993 ,\n",
       "       0.05584345, 0.07748932, 0.07113889, 0.01549839, 0.03519771,\n",
       "       0.03882606, 0.03745909, 0.0224229 , 0.99995077, 0.01931986,\n",
       "       0.02442397, 0.06115986, 0.01120946, 0.03625977, 0.99999964,\n",
       "       0.9998497 , 0.99999976, 1.        , 0.99988496, 0.3399767 ,\n",
       "       0.01281431, 0.4329209 , 0.01710987, 0.03151201, 0.99999857,\n",
       "       0.01414482, 0.9999976 , 0.02776094, 0.03324092, 0.99971765,\n",
       "       0.9999999 , 0.01019128, 0.0042249 , 0.99998677, 0.01362219,\n",
       "       0.03482303, 0.9999411 , 0.9999976 , 0.9999572 , 0.37112662,\n",
       "       0.999998  , 1.        , 0.99968266, 0.01419532, 0.00628951,\n",
       "       1.        , 0.99960905, 0.01000588, 0.03449765, 0.01267589,\n",
       "       0.45638627, 0.23021044, 0.9999765 , 0.01878329, 0.0458914 ,\n",
       "       0.03593757, 0.0310315 , 0.95771563, 0.0212441 , 0.01129366,\n",
       "       0.05129177, 0.01367241, 0.00623778, 1.        , 0.01311072,\n",
       "       0.02546963, 0.02629011, 0.6559077 , 0.03096212, 0.99999833,\n",
       "       0.10434634, 0.99998343, 0.0355114 , 0.06913453, 0.02005705,\n",
       "       0.04269557, 0.9999995 , 0.11487525, 0.9846384 , 0.0479506 ,\n",
       "       0.9984194 , 0.02605551, 0.0259253 , 0.03930596, 0.9999958 ,\n",
       "       0.08014423, 0.9999993 , 1.        , 0.01531664, 0.9415869 ,\n",
       "       0.02111514, 0.0300711 , 0.03204531, 0.0067267 , 0.9999981 ,\n",
       "       0.05122582, 0.9999999 , 0.9752651 , 0.99999905, 0.01842124,\n",
       "       0.02309351, 0.02687534, 0.01342474, 0.00846157, 0.9984736 ,\n",
       "       0.01527804, 0.9999764 , 0.11209348, 0.99937457, 0.99985063,\n",
       "       0.96607655, 0.03058394, 0.00411018, 0.9998784 , 0.12584026,\n",
       "       0.17202665, 0.99644935, 0.08664893, 0.02732572, 0.01979693,\n",
       "       0.06728248, 0.02175045, 0.01910387, 0.05981256, 0.03114346,\n",
       "       0.00982541, 0.05795899, 0.99999964, 0.12387025, 0.03219597,\n",
       "       0.02281824, 0.04844404, 0.9999796 , 0.02435001, 0.98012185,\n",
       "       0.9999988 , 0.01374815, 0.04557398, 0.02725398, 0.00510749,\n",
       "       1.        ], dtype=float32)"
      ]
     },
     "execution_count": 42,
     "metadata": {},
     "output_type": "execute_result"
    }
   ],
   "source": [
    "predictions"
   ]
  },
  {
   "cell_type": "code",
   "execution_count": 43,
   "metadata": {
    "colab": {
     "base_uri": "https://localhost:8080/"
    },
    "id": "a-RKx1yWvcbd",
    "outputId": "674fdd71-2cd8-4f5b-ec82-4243607adf74"
   },
   "outputs": [
    {
     "name": "stdout",
     "output_type": "stream",
     "text": [
      "10/10 [==============================] - 0s 6ms/step - loss: 0.2600 - accuracy: 0.9054\n"
     ]
    }
   ],
   "source": [
    "testing = model.evaluate(X_test, y_test)"
   ]
  },
  {
   "cell_type": "code",
   "execution_count": null,
   "metadata": {
    "id": "9reUVJFMu7Sc"
   },
   "outputs": [],
   "source": []
  },
  {
   "cell_type": "code",
   "execution_count": null,
   "metadata": {},
   "outputs": [],
   "source": []
  },
  {
   "cell_type": "code",
   "execution_count": null,
   "metadata": {},
   "outputs": [],
   "source": []
  }
 ],
 "metadata": {
  "colab": {
   "collapsed_sections": [],
   "name": "2_Credit_Card_Fraud_Detection.ipynb",
   "provenance": []
  },
  "kernelspec": {
   "display_name": "Python 3",
   "language": "python",
   "name": "python3"
  },
  "language_info": {
   "codemirror_mode": {
    "name": "ipython",
    "version": 3
   },
   "file_extension": ".py",
   "mimetype": "text/x-python",
   "name": "python",
   "nbconvert_exporter": "python",
   "pygments_lexer": "ipython3",
   "version": "3.8.5"
  }
 },
 "nbformat": 4,
 "nbformat_minor": 1
}
